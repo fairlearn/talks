{
  "cells": [
    {
      "cell_type": "markdown",
      "source": [
        "# SciPy 2021 Tutorial <br>_Fairness in AI systems: <br>From social context to practice using Fairlearn_\n",
        "\n",
        "---\n",
        "\n",
        "_SciPy 2021 Tutorial: Fairness in AI systems: From social context to practice using Fairlearn by Manojit Nandi, Miroslav Dudík, Triveni Gandhi, Lisa Ibañez, Adrin Jalali, Michael Madaio, Hanna Wallach, Hilde Weerts is licensed under\n",
        "[CC BY 4.0](https://creativecommons.org/licenses/by/4.0/)._\n",
        "\n",
        "---"
      ],
      "metadata": {
        "id": "NDxtnoIr7mIN"
      }
    },
    {
      "cell_type": "markdown",
      "source": [
        "Fairness in AI systems is an interdisciplinary field of research and practice that aims to understand and address some of the negative impacts of AI systems on society. In this tutorial, we will walk through the process of assessing and mitigating fairness-related harms in the context of the U.S. health care system. This tutorial will consist of a mix of instructional content and hands-on demonstrations using Jupyter notebooks. Participants will use the Fairlearn library to assess ML models for performance disparities across different racial groups and mitigate those disparities using a variety of algorithmic techniques."
      ],
      "metadata": {
        "id": "Sch9KDWg7SL8"
      }
    },
    {
      "cell_type": "markdown",
      "source": [
        "# **Prepare environment**"
      ],
      "metadata": {
        "id": "fboVvqvVvpKz"
      }
    },
    {
      "cell_type": "markdown",
      "source": [
        "## Install packages"
      ],
      "metadata": {
        "id": "o0p461hmgrmz"
      }
    },
    {
      "cell_type": "markdown",
      "source": [
        "Note that the runtime environment needs to be restarted after installing `model-card-toolkit`."
      ],
      "metadata": {
        "id": "9b5Nsb2Rgux7"
      }
    },
    {
      "cell_type": "code",
      "execution_count": null,
      "source": [
        "!pip install --upgrade fairlearn==0.7.0\r\n",
        "!pip install --upgrade scikit-learn\r\n",
        "!pip install --upgrade seaborn\r\n",
        "!pip install model-card-toolkit"
      ],
      "outputs": [],
      "metadata": {
        "colab": {
          "base_uri": "https://localhost:8080/",
          "height": 1000
        },
        "id": "w_uVNMHUdb2w",
        "outputId": "8ef912ea-10cf-47ef-c85d-574a044283e3"
      }
    },
    {
      "cell_type": "markdown",
      "source": [
        "## Import and set up packages"
      ],
      "metadata": {
        "id": "fVtpwFGJLcgU"
      }
    },
    {
      "cell_type": "code",
      "execution_count": null,
      "source": [
        "import numpy as np\r\n",
        "import pandas as pd\r\n",
        "\r\n",
        "pd.set_option(\"display.float_format\", \"{:.3f}\".format)"
      ],
      "outputs": [],
      "metadata": {
        "id": "cEwLsWyTLgJn"
      }
    },
    {
      "cell_type": "code",
      "execution_count": null,
      "source": [
        "import matplotlib.pyplot as plt\r\n",
        "import seaborn as sns\r\n",
        "\r\n",
        "sns.set()"
      ],
      "outputs": [],
      "metadata": {
        "id": "wBOSsyc48MK0"
      }
    },
    {
      "cell_type": "code",
      "execution_count": null,
      "source": [
        "from sklearn.linear_model import LogisticRegression\r\n",
        "from sklearn.model_selection import train_test_split\r\n",
        "from sklearn.preprocessing import StandardScaler\r\n",
        "from sklearn.pipeline import Pipeline\r\n",
        "from sklearn.utils import Bunch\r\n",
        "from sklearn.metrics import (\r\n",
        "    balanced_accuracy_score,\r\n",
        "    roc_auc_score,\r\n",
        "    accuracy_score,\r\n",
        "    recall_score,\r\n",
        "    confusion_matrix,\r\n",
        "    roc_auc_score,\r\n",
        "    roc_curve,\r\n",
        "    plot_roc_curve)\r\n",
        "from sklearn import set_config\r\n",
        "\r\n",
        "set_config(display=\"diagram\")"
      ],
      "outputs": [],
      "metadata": {
        "id": "VhbFzU6GLgW0"
      }
    },
    {
      "cell_type": "code",
      "execution_count": null,
      "source": [
        "from fairlearn.metrics import (\r\n",
        "    MetricFrame,\r\n",
        "    true_positive_rate,\r\n",
        "    false_positive_rate,\r\n",
        "    false_negative_rate,\r\n",
        "    selection_rate,\r\n",
        "    count,\r\n",
        "    false_negative_rate_difference\r\n",
        ")\r\n",
        "\r\n",
        "from fairlearn.postprocessing import ThresholdOptimizer, plot_threshold_optimizer\r\n",
        "from fairlearn.postprocessing._interpolated_thresholder import InterpolatedThresholder\r\n",
        "from fairlearn.postprocessing._threshold_operation import ThresholdOperation\r\n",
        "from fairlearn.reductions import ExponentiatedGradient, EqualizedOdds, TruePositiveRateParity"
      ],
      "outputs": [],
      "metadata": {
        "id": "GcilMnWhLgaT"
      }
    },
    {
      "cell_type": "code",
      "execution_count": null,
      "source": [
        "# Model Card Toolkit works in Google Colab, but it does not work on all local environments\r\n",
        "# that we tested. If the import fails, define a dummy function in place of the function\r\n",
        "# for saving figures into images in a model card..\r\n",
        "\r\n",
        "try:\r\n",
        "    from model_card_toolkit import ModelCardToolkit\r\n",
        "    from model_card_toolkit.utils.graphics import figure_to_base64str\r\n",
        "    model_card_imported = True\r\n",
        "except Exception:\r\n",
        "    model_card_imported = False\r\n",
        "    def figure_to_base64str(*args):\r\n",
        "        return None"
      ],
      "outputs": [],
      "metadata": {
        "id": "oMbCFBSZr2A4"
      }
    },
    {
      "cell_type": "code",
      "execution_count": null,
      "source": [
        "from IPython import display\r\n",
        "from datetime import date"
      ],
      "outputs": [],
      "metadata": {
        "id": "S4ANMj1M8k0h"
      }
    },
    {
      "cell_type": "markdown",
      "source": [
        "# **Overview of fairness in AI systems**"
      ],
      "metadata": {
        "id": "4OoPTetsDv-v"
      }
    },
    {
      "cell_type": "markdown",
      "source": [
        "Please refer to the slides here: https://raw.githubusercontent.com/fairlearn/talks/main/2021_scipy_tutorial/overview.pdf\n",
        "\n"
      ],
      "metadata": {
        "id": "vt9n43o6DPbg"
      }
    },
    {
      "cell_type": "markdown",
      "source": [
        "# **Introduction of Fairlearn and other tutorial resources**\n"
      ],
      "metadata": {
        "id": "0gZTFumIxCfK"
      }
    },
    {
      "cell_type": "markdown",
      "source": [
        "This tutorial builds on the following open source projects:\n",
        "\n",
        "* **machine learning and data processing**: _scikit-learn_, _pandas_, _numpy_\n",
        "* **plotting**: _seaborn_, _matplotlib_\n",
        "* **AI fairness**: _Fairlearn_, _Model Card Toolkit_"
      ],
      "metadata": {
        "id": "7KhsuCB-imFk"
      }
    },
    {
      "cell_type": "markdown",
      "source": [
        "### [Fairlearn](https://fairlearn.org)\n",
        "\n",
        "Fairlearn is an open-source, community-driven project to help data scientists improve fairness of AI systems. It includes:\n",
        "\n",
        "* A Python library for fairness assessment and improvement (fairness metrics, mitigation algorithms, plotting, etc.)\n",
        "\n",
        "* Educational resources covering organizational and technical processes for unfairness mitigation (user guide, case studies, Jupyter notebooks, etc.)\n",
        "\n",
        "The project was started in 2018 at Microsoft Research. In 2021 it adopted neutral governance structure and since then it is completely community-driven."
      ],
      "metadata": {
        "id": "ORfTAukTuEPN"
      }
    },
    {
      "cell_type": "markdown",
      "source": [
        "### [Model Card Toolkit](https://github.com/tensorflow/model-card-toolkit)\n",
        "\n",
        "The Model Card Toolkit (MCT) streamlines and automates generation of _model cards_, machine learning documents that provide context and transparency into a model's development and performance. It was released by Google in 2020."
      ],
      "metadata": {
        "id": "AE3bFABst9ze"
      }
    },
    {
      "cell_type": "markdown",
      "source": [
        "# **Introduction to the health care scenario**"
      ],
      "metadata": {
        "id": "_j1vtg6TD7Fi"
      }
    },
    {
      "cell_type": "markdown",
      "source": [
        "Our scenario builds on previous research that highlighted racial disparities in how health care resources are allocated in the U.S. ([Obermeyer et al., 2019](https://science.sciencemag.org/content/366/6464/447.full)).\n",
        "Motivated by that work, in this tutorial we consider an automated system for recommending patients for _high-risk care management_ programs, which are described by Obermeyer et al. 2019 as follows:\n",
        "\n",
        "> These programs seek to improve the care of patients with complex health needs by providing additional resources, including greater attention from trained providers, to help ensure that care is well coordinated. Most health systems use these programs as the cornerstone of population health management efforts, and they are widely considered effective at improving outcomes and satisfaction while reducing costs. [...] Because the programs are themselves expensive—with costs going toward teams of dedicated nurses, extra primary care appointment slots, and other scarce resources—**health systems rely extensively on algorithms to identify patients who will benefit the most.**\n",
        "\n",
        "**Convenience restriction**\n",
        "\n",
        "* In practice, the modeling of health needs would use large data sets covering a wide range of diagnoses. In this tutorial, we will work with a [publicly available clinical dataset](https://archive.ics.uci.edu/ml/datasets/Diabetes+130-US+hospitals+for+years+1999-2008) that focuses on _diabetic patients only_ ([Strack et al., 2014](https://www.hindawi.com/journals/bmri/2014/781670/))."
      ],
      "metadata": {
        "id": "HUkG_zdEylGU"
      }
    },
    {
      "cell_type": "markdown",
      "source": [
        "## Dataset and task"
      ],
      "metadata": {
        "id": "q-j4KN95wLLS"
      }
    },
    {
      "cell_type": "markdown",
      "source": [
        "We will be working with a clincial dataset of hospital re-admissions over a ten-year period (1998-2008) for diabetic patients across 130 different hospitals in the US. Each record represents the hospital admission records for a patient diagnosed with diabetes whose stay lasted one to fourteen days.\n",
        "\n",
        "The features describing each encounter include demographics, diagnoses, diabetic medications, number of visits in the year preceding the encounter, and payer information, as well as whether the patient was readmitted after release, and whether the readmission occurred within 30 days of the release.\n",
        "\n",
        "We would like to develop a classification model, which decides whether the patients should be suggested to their primary care physicians for an enrollment into the high-risk care management program. The positive prediction will mean recommendation into the care program.\n",
        "\n",
        "**Decision point: Task definition**\n",
        "\n",
        "* A hospital **readmission within 30 days** can be viewed as a proxy that the patients needed more assistance at the release time, so it will be the label we wish to predict.\n",
        "\n",
        "* Because of the class imbalance, we will be measuring our performance via **balanced accuracy**. Another key performance consideration is how many patients are recommended for care, metric we refer to as **selection rate**.\n",
        "\n",
        "Ideally, health care professionals would be involved in both designing and using the model, including formalizing the task definition. \n"
      ],
      "metadata": {
        "id": "zOwrRsB7wEeM"
      }
    },
    {
      "cell_type": "markdown",
      "source": [
        "## Fairness considerations"
      ],
      "metadata": {
        "id": "2BE26iXWwUqr"
      }
    },
    {
      "cell_type": "markdown",
      "source": [
        "* _Which groups are most likely to be disproportionately negatively affected?_ Previous work suggests that groups with different race and ethnicity can be differently affected.\n",
        "\n",
        "* _What are the harms?_ The key harms here are allocation harms. In particular, false negatives, i.e., don't recommend somebody who will be readmitted.\n",
        "\n",
        "* _How should we measure those harms?_\n"
      ],
      "metadata": {
        "id": "eZUcQVZYyRvz"
      }
    },
    {
      "cell_type": "markdown",
      "source": [
        "In the remainder of the tutorial we will:\n",
        "* First examine the dataset and our choice of label with an eye towards a variety of fairness issues.\n",
        "* Then train a logistic regression model and assess its performance as well as fairness.\n",
        "* Finally, look at two unfairness mitigation strategies."
      ],
      "metadata": {
        "id": "2kD6G-yF1Tcf"
      }
    },
    {
      "cell_type": "markdown",
      "source": [
        "<a name=\"discussion-fairness-issues\"></a>\n",
        "## Discussion: Fairness-related harms\n",
        "\n",
        "* How can we determine which type of harm is relevant in a particular scenario?\n",
        "* What are ways to find out which (groups of) individuals are most likely to be disproportionately negatively affected?\n"
      ],
      "metadata": {
        "id": "FkTmOAh8Bp1D"
      }
    },
    {
      "cell_type": "markdown",
      "source": [
        "# Task definition and dataset characteristics"
      ],
      "metadata": {
        "id": "R7tpRumX_4Nh"
      }
    },
    {
      "cell_type": "markdown",
      "source": [
        "Two critical decisions when desiging an AI system are\n",
        "1. how we define the machine learning task\n",
        "2. what dataset we use to train our models\n",
        "\n",
        "These choices are often intertwined, because the dataset is often a convenience dataset, based on availability, which leads to a specific choice of label and performance metric (that's also the case in our scenario).\n",
        "\n",
        "In this part of the tutorial, we first load the dataset, and then we examine it for a variety of fairness issues:\n",
        "1. sample sizes of different demographic groups, and in particular different racial groups\n",
        "2. appropriateness of our choice of label (readmission within 30 days)\n",
        "3. representativeness/informativeness of different features for different groups\n",
        "\n",
        "Besides dataset characteristics, one additional aspect of dataset fairness is whether the data was collected in a manner that respects the autonomy of individuals in the dataset.\n",
        "\n",
        "The dataset characteristics can be systematically documented through the **datasheets** practice. We will touch on this later on. By documenting our understanding of the dataset, we communicate any concerns we have about the data and highlight downstream issues that may arise during the model training, evaluation and deployment.\n",
        "\n"
      ],
      "metadata": {
        "id": "3iJGhfCgPiy-"
      }
    },
    {
      "cell_type": "markdown",
      "source": [
        "## Load the dataset\n"
      ],
      "metadata": {
        "id": "3-ABnntZT8Fn"
      }
    },
    {
      "cell_type": "markdown",
      "source": [
        "We next load the dataset and review the meaning of its columns.\n"
      ],
      "metadata": {
        "id": "bvyHqcLIT8Fo"
      }
    },
    {
      "cell_type": "code",
      "execution_count": null,
      "source": [
        "df = pd.read_csv(\"https://raw.githubusercontent.com/fairlearn/talks/main/2021_scipy_tutorial/data/diabetic_preprocessed.csv\")"
      ],
      "outputs": [],
      "metadata": {
        "id": "gkfwniFQT8Fp"
      }
    },
    {
      "cell_type": "code",
      "execution_count": null,
      "source": [
        "df.head()"
      ],
      "outputs": [],
      "metadata": {
        "colab": {
          "base_uri": "https://localhost:8080/",
          "height": 360
        },
        "id": "mIFN96kiT8Fq",
        "outputId": "9dbf587e-5f51-4dc4-877a-3ffb9a7374a2"
      }
    },
    {
      "cell_type": "markdown",
      "source": [
        "The columns contain mostly boolean and categorical data (including age and various test results), with just the following exceptions: `time_in_hospital`, `num_lab_procedures`, `num_procedures`, `num_medications`, `number_diagnoses`.\n",
        "\n",
        "\n",
        "|features| description|\n",
        "|---|---|\n",
        "| race, gender, age | demographic features |\n",
        "| medicare, medicaid | insurance information |\n",
        "| admission_source_id | emergency, referral, or other |\n",
        "| had_emergency, had_inpatient_days,<br>had_outpatient_days | hospital visits in prior year |\n",
        "| medical_specialty | admitting physician's specialty |\n",
        "| time_in_hospital, num_lab_procedures,<br>num_procedures, num_medications,<br>primary_diagnosis, number_diagnoses,<br>max_glu_serum, A1Cresult, insulin<br>change, diabetesMed | description of the hospital visit<br> |\n",
        "| discharge_disposition_id | discharched to home or not |\n",
        "| readmitted, readmit_binary,<br>readmit_30_days | readmission information |\n",
        "\n",
        "\n"
      ],
      "metadata": {
        "id": "KXQNItgRT8Fu"
      }
    },
    {
      "cell_type": "code",
      "execution_count": null,
      "source": [
        "# Show the values of all binary and categorical features\r\n",
        "categorical_values = {}\r\n",
        "for col in df:\r\n",
        "  if col not in {'time_in_hospital', 'num_lab_procedures',\r\n",
        "                 'num_procedures', 'num_medications', 'number_diagnoses'}:\r\n",
        "    categorical_values[col] = pd.Series(df[col].value_counts().index.values)\r\n",
        "categorical_values_df = pd.DataFrame(categorical_values).fillna('')\r\n",
        "categorical_values_df.T"
      ],
      "outputs": [],
      "metadata": {
        "colab": {
          "base_uri": "https://localhost:8080/",
          "height": 738
        },
        "id": "gPtaDcfHT8Fv",
        "outputId": "42347f1f-d3c8-4221-f98d-fdeaa25ef4fd"
      }
    },
    {
      "cell_type": "markdown",
      "source": [
        "We mark all categorical features: "
      ],
      "metadata": {
        "id": "8loEiuFSWb8A"
      }
    },
    {
      "cell_type": "code",
      "execution_count": null,
      "source": [
        "categorical_features = [\r\n",
        "    \"race\",\r\n",
        "    \"gender\",\r\n",
        "    \"age\",\r\n",
        "    \"discharge_disposition_id\",\r\n",
        "    \"admission_source_id\",\r\n",
        "    \"medical_specialty\",\r\n",
        "    \"primary_diagnosis\",\r\n",
        "    \"max_glu_serum\",\r\n",
        "    \"A1Cresult\",\r\n",
        "    \"insulin\",\r\n",
        "    \"change\",\r\n",
        "    \"diabetesMed\",\r\n",
        "    \"readmitted\"\r\n",
        "]"
      ],
      "outputs": [],
      "metadata": {
        "id": "P4y1FRMdWduE"
      }
    },
    {
      "cell_type": "code",
      "execution_count": null,
      "source": [
        "for col_name in categorical_features:\r\n",
        "  df[col_name] = df[col_name].astype(\"category\")"
      ],
      "outputs": [],
      "metadata": {
        "id": "Qyo3GQ4RWduG"
      }
    },
    {
      "cell_type": "markdown",
      "source": [
        "## Group sample sizes "
      ],
      "metadata": {
        "id": "6LTax67Em4q8"
      }
    },
    {
      "cell_type": "markdown",
      "source": [
        "From the perspective of fairness assessment, a key data characteristic is the sample size of groups with respect to which we conduct fairness assessment.\n",
        "\n",
        "Small sample sizes have two implications:\n",
        "\n",
        "* **assessment**: the impacts of the AI system on smaller groups are harder to assess, because due to fewer data points we have a much larger uncertainty (error bars) in our estimates\n",
        "\n",
        "* **model training**: fewer training data points mean that our model fails to appropriately capture any data patterns specific to smaller groups, which means that its predictive performance on these groups could be worse\n",
        "\n",
        "Let's examine the sample sizes of the groups according to `race`:\n",
        "\n"
      ],
      "metadata": {
        "id": "ft28kXKHm4q9"
      }
    },
    {
      "cell_type": "code",
      "execution_count": null,
      "source": [
        "df[\"race\"].value_counts()"
      ],
      "outputs": [],
      "metadata": {
        "colab": {
          "base_uri": "https://localhost:8080/"
        },
        "id": "wEGJjCrOm4q9",
        "outputId": "a7430662-00d7-405b-b9af-1dcaf8fc5c28"
      }
    },
    {
      "cell_type": "code",
      "execution_count": null,
      "source": [
        "df[\"race\"].value_counts().plot(kind='bar', rot=45);"
      ],
      "outputs": [],
      "metadata": {
        "colab": {
          "base_uri": "https://localhost:8080/",
          "height": 330
        },
        "id": "HznSDLWEm4q-",
        "outputId": "009b8aea-9ae4-4810-eb13-67ac8efae163"
      }
    },
    {
      "cell_type": "markdown",
      "source": [
        "Normalized as frequencies:"
      ],
      "metadata": {
        "id": "ZkI6KA3rm4q-"
      }
    },
    {
      "cell_type": "code",
      "execution_count": null,
      "source": [
        "df[\"race\"].value_counts(normalize=True)"
      ],
      "outputs": [],
      "metadata": {
        "colab": {
          "base_uri": "https://localhost:8080/"
        },
        "id": "qE2UoDU3m4q-",
        "outputId": "c23f07b1-493d-4df2-db5a-06bc921eefde"
      }
    },
    {
      "cell_type": "markdown",
      "source": [
        "In our dataset, our patients are predominantly *Caucasian* (75%). The next largest racial group is *AfricanAmerican*, making up 19% of the patients. The remaining race categories (including *Unknown*) compose only 6% of the data."
      ],
      "metadata": {
        "id": "DEUrg6J3m4q_"
      }
    },
    {
      "cell_type": "markdown",
      "source": [
        "We also examine the dataset composition by `gender`:"
      ],
      "metadata": {
        "id": "xIdDhgtAm4rA"
      }
    },
    {
      "cell_type": "code",
      "execution_count": null,
      "source": [
        "df[\"gender\"].value_counts() # counts"
      ],
      "outputs": [],
      "metadata": {
        "colab": {
          "base_uri": "https://localhost:8080/"
        },
        "id": "0h26CH50m4rA",
        "outputId": "20d290a6-c8a7-4d21-c676-2a6f552bc3a6"
      }
    },
    {
      "cell_type": "code",
      "execution_count": null,
      "source": [
        "df[\"gender\"].value_counts(normalize=True) # frequencies"
      ],
      "outputs": [],
      "metadata": {
        "colab": {
          "base_uri": "https://localhost:8080/"
        },
        "id": "UTbI5v48m4rA",
        "outputId": "e69992ee-8b33-4aef-a903-b51eb63094e8"
      }
    },
    {
      "cell_type": "markdown",
      "source": [
        "Gender is in our case effectively binary (and we have no further information how it was operationalized), with both *Female* represented at 54% and *Male* represented at 46%. There are only 3 samples annotated as *Unknown/Invalid*."
      ],
      "metadata": {
        "id": "i3xBANdpm4rA"
      }
    },
    {
      "cell_type": "markdown",
      "source": [
        "### Decision point: How do we address smaller group sizes?"
      ],
      "metadata": {
        "id": "NyLBXpKWm4rA"
      }
    },
    {
      "cell_type": "markdown",
      "source": [
        "When the data set lacks coverage of certain groups, it means that we will not be able to reliably assess any fairness-related issues. There are three interventions (which could be carried out in a combination):\n",
        "\n",
        "* **collect more data**: collect more data for groups with fewer samples\n",
        "* **buckets**: merge some of the groups\n",
        "* **drop small groups**\n",
        "\n",
        "The choice of strategy depends on our existing understanding of which groups are at the greatest risk of a harm. In particular, pooling the groups with widely different risks could mask the extent of harms. We generally caution against dropping small groups as this leads to the representational harm of erasure.\n",
        "\n",
        "If any groups are merged or dropped, these decisions should be annotated / explained (in the datasheet, which we discuss below).\n",
        "\n",
        "In our case, we will:\n",
        "\n",
        "* merge the three smallest race groups *Asian*, *Hispanic*, *Other* (similar to [Strack et al., 2014](https://www.hindawi.com/journals/bmri/2014/781670/)), but also retain the original groups for auxiliary assessments\n",
        "\n",
        "* drop the gender group *Unknown/Invalid*, because the sample size is so small that no meaningful fairness assessment is possible"
      ],
      "metadata": {
        "id": "wT-BPQ2Gm4rB"
      }
    },
    {
      "cell_type": "code",
      "execution_count": null,
      "source": [
        "# drop gender group Unknown/Invalid\r\n",
        "df = df.query(\"gender != 'Unknown/Invalid'\")\r\n",
        "\r\n",
        "# retain the original race as race_all, and merge Asian+Hispanic+Other \r\n",
        "df[\"race_all\"] = df[\"race\"]\r\n",
        "df[\"race\"] = df[\"race\"].replace({\"Asian\": \"Other\", \"Hispanic\": \"Other\"})"
      ],
      "outputs": [],
      "metadata": {
        "id": "iBN_fIhpm4rB"
      }
    },
    {
      "cell_type": "markdown",
      "source": [
        "### Exercise"
      ],
      "metadata": {
        "id": "N_Sb8ISAnRQF"
      }
    },
    {
      "cell_type": "markdown",
      "source": [
        "Please examine the distribution of the `age` feature in the dataset."
      ],
      "metadata": {
        "id": "ns1Tr9wLm4rB"
      }
    },
    {
      "cell_type": "markdown",
      "source": [
        "### Answer"
      ],
      "metadata": {
        "id": "MDiLp-cDoWGv"
      }
    },
    {
      "cell_type": "code",
      "execution_count": null,
      "source": [
        "df[\"age\"].value_counts()"
      ],
      "outputs": [],
      "metadata": {
        "colab": {
          "base_uri": "https://localhost:8080/"
        },
        "id": "UOn4j1o8m4rB",
        "outputId": "577b1636-57f5-4ab1-903a-c6a42f8193ba"
      }
    },
    {
      "cell_type": "code",
      "execution_count": null,
      "source": [
        "df[\"age\"].value_counts().plot(kind='bar', rot=0);"
      ],
      "outputs": [],
      "metadata": {
        "colab": {
          "base_uri": "https://localhost:8080/",
          "height": 268
        },
        "id": "ns7RxP5um4rB",
        "outputId": "81364da1-1f2e-4053-ced1-c93394ba125e"
      }
    },
    {
      "cell_type": "markdown",
      "source": [
        "As we might expect, most patients admitted into the hospital in our data set belong to the *Over 60 years* category. Although we will not be assessing for age-based fairness-related harms in this tutorial, we will want to document the age imbalance in our dataset."
      ],
      "metadata": {
        "id": "HAXa7MoQnjq4"
      }
    },
    {
      "cell_type": "markdown",
      "source": [
        "## Examining the choice of label"
      ],
      "metadata": {
        "id": "pK0LbF_sylTU"
      }
    },
    {
      "cell_type": "markdown",
      "source": [
        "Next we dive into the question of whether our choice of label (readmission within 30 days) aligns with our goal (identify patients that would benefit from the care management program).\n",
        "\n",
        "A framework particularly suited for this analysis is called _measurement modeling_ (see, e.g., [Jacobs and Wallach, 2021](https://arxiv.org/abs/1912.05511)). The goal of measurement modeling is to describe the relationship between what we care about and what we can measure. The thing that we care about is referred to as the _construct_ and what we can observe is referred to as the _measurement_. In our case:\n",
        "* **construct** = greatest benefit from the care management program\n",
        "* **measurement** = readmission within 30 days (in the absence of such program)\n",
        "\n",
        "In our case, the **measurement** coincides with the **classification label**.\n",
        "\n",
        "The act of _operationalizing_ the construct via a specific measurement corresponds to making certain assumptions. In our case, we are making the following assumption: **the greatest benefit from the care management program would go to patients that are** (in the absence of such a program) **most likely to be readmitted into the hospital within 30 days.**"
      ],
      "metadata": {
        "id": "AtgLr5Cs_YhF"
      }
    },
    {
      "cell_type": "markdown",
      "source": [
        "### How can we check whether our assumptions apply?"
      ],
      "metadata": {
        "id": "fA19isovvCew"
      }
    },
    {
      "cell_type": "markdown",
      "source": [
        "In the terminology of measurement modeling, how do we establish _construct validity_? Following, [Jacobs and Wallach, 2021](https://arxiv.org/abs/1912.05511),\n",
        "\n",
        "> Establishing construct\n",
        "validity means demonstrating, in a variety of ways, that the measurements obtained from measurement model are both meaningful\n",
        "and useful:\n",
        "> * Does the operationalization capture all relevant aspects\n",
        "of the construct purported to be measured?\n",
        "> * Do the measurements\n",
        "look plausible?\n",
        "> * Do they correlate with other measurements of the\n",
        "same construct? Or do they vary in ways that suggest that the\n",
        "operationalization may be inadvertently capturing aspects of other\n",
        "constructs?\n",
        "> * Are the measurements predictive of measurements of\n",
        "any relevant observable properties (and other unobservable theoretical constructs) thought to be related to the construct, but not incorporated into the operationalization?\n",
        "\n",
        "We focus on one aspect of construct validity, called _predictive validity_, which refers to the extent\n",
        "to which the measurements obtained from a measurement model\n",
        "are predictive of measurements of any relevant observable properties \n",
        "related to the construct purported to be measured, but not incorporated into the operationalization.\n",
        "\n",
        "The predictions do not need to be chronological, meaning that we do not necessarily need to be predicting future from the past. Also, the predictions do not need to be causal (going from causes to effects). We just need to ensure that the predicted property is not part of the measurement whose validity we're checking.  \n"
      ],
      "metadata": {
        "id": "oY95_kOFO6Wb"
      }
    },
    {
      "cell_type": "markdown",
      "source": [
        "### Predictive validity"
      ],
      "metadata": {
        "id": "8IBUG3Sa96LX"
      }
    },
    {
      "cell_type": "markdown",
      "source": [
        "We would like to show that our measurement `readmit_30_days` is correlated with patient characteristics that are related to our construct \"benefiting from care management\". One such characteristic is the general patient health, where we expect that patients that are less healthy are more likely to benefit from care management.\n",
        "\n",
        "While our data does not contain full health records that would enable us to holistically measure general patient health, the data does contain two relevant features: `had_emergency` and `had_inpatient_days`, which indicate whether the patient spent any days in the emergency room or in the hospital (but non-emergency) in the preceding year.\n",
        "\n",
        "To establish predictive validity, we would like to show that our measurement `readmit_30_days` is predictive of these two observable characteristics."
      ],
      "metadata": {
        "id": "rVrLpuwy98uG"
      }
    },
    {
      "cell_type": "markdown",
      "source": [
        "First, let's check the rate at which the patients with different `readmit_30_days` labels were readmitted in the previous year:"
      ],
      "metadata": {
        "id": "BQWxJEN-M6VD"
      }
    },
    {
      "cell_type": "code",
      "execution_count": null,
      "source": [
        "sns.pointplot(y=\"had_emergency\", x=\"readmit_30_days\",\r\n",
        "              data=df, ci=95, join=False);"
      ],
      "outputs": [],
      "metadata": {
        "colab": {
          "base_uri": "https://localhost:8080/",
          "height": 285
        },
        "id": "3t11OgTgZfV8",
        "outputId": "d2467bd3-0148-4373-cd41-0b99d9f54088"
      }
    },
    {
      "cell_type": "markdown",
      "source": [
        "The plot shows that indeed patients with `readmit_30_days=0` have a lower rate of emergency visits in the prior year, whereas patients with `readmit_30_days=1` have a larger rate. (The vertical lines indicate 95% confidence intervals obtained via boostrapping.)"
      ],
      "metadata": {
        "id": "Ptl-tHkDf_GJ"
      }
    },
    {
      "cell_type": "markdown",
      "source": [
        "We see a similar pattern when `readmit_30_days` is used to predict the rate of (non-emergency) hospital visits in the previous year:"
      ],
      "metadata": {
        "id": "07GU8IGIY9KC"
      }
    },
    {
      "cell_type": "code",
      "execution_count": null,
      "source": [
        "sns.pointplot(y=\"had_inpatient_days\", x=\"readmit_30_days\",\r\n",
        "              data=df, join=False);"
      ],
      "outputs": [],
      "metadata": {
        "colab": {
          "base_uri": "https://localhost:8080/",
          "height": 285
        },
        "id": "GuPPVpXrO5uE",
        "outputId": "dcc740aa-0805-4ef9-9c77-d64fe1b0111a"
      }
    },
    {
      "cell_type": "markdown",
      "source": [
        "Now let's take a look whether the predictiveness is similar across different race groups. First, let's check how well `readmit_30_days` predicts `had_emergency`:"
      ],
      "metadata": {
        "id": "wN8NU8QkRMqM"
      }
    },
    {
      "cell_type": "code",
      "execution_count": null,
      "source": [
        "# Visualize predictiveness using a categorical pointplot\r\n",
        "sns.catplot(y=\"had_emergency\", x=\"readmit_30_days\", hue=\"race\", data=df,\r\n",
        "            kind=\"point\", ci=95, dodge=True, join=False);"
      ],
      "outputs": [],
      "metadata": {
        "colab": {
          "base_uri": "https://localhost:8080/",
          "height": 382
        },
        "id": "tgLhUlZzOvHC",
        "outputId": "59590db9-f5c7-44a0-85d2-bfcf79eab25e"
      }
    },
    {
      "cell_type": "markdown",
      "source": [
        "The patients in the group *Unknown* have a substantially lower rate of emergency visits in the prior year, regardless of whether they are readmitted in 30 days. The readmission is still positively correlated with `had_emergency`, but note the large error bars (due to small sample sizes).\n",
        "\n",
        "We also see that the group with feature value *AfricanAmerican* has a higher rate of emergency visits compared with other groups. However, generally the groups *Caucasian*, *AfricanAmerican* and *Other* follow similar dependence patterns."
      ],
      "metadata": {
        "id": "IQ7zH3Wn416g"
      }
    },
    {
      "cell_type": "markdown",
      "source": [
        "We see a similar pattern when `readmit_30_days` is used to predict the rate of (non-emergency) hospital visits in the previous year:"
      ],
      "metadata": {
        "id": "G13abbdS7oM-"
      }
    },
    {
      "cell_type": "code",
      "execution_count": null,
      "source": [
        "sns.catplot(y=\"had_inpatient_days\", x=\"readmit_30_days\", hue=\"race\", data=df,\r\n",
        "            kind=\"point\", ci=95, dodge=True, join=False);"
      ],
      "outputs": [],
      "metadata": {
        "colab": {
          "base_uri": "https://localhost:8080/",
          "height": 382
        },
        "id": "Kx52yWYNQuSH",
        "outputId": "d0acd516-57d5-4910-feaa-f3b1c1176900"
      }
    },
    {
      "cell_type": "markdown",
      "source": [
        "Again, for *Unknown* the rate of (non-emergency) hospital visits in the previous year is lower than for other groups.In all groups there is a strong positive correlation between `readmit_30_days` and `had_inpatient_days`.\n",
        "\n",
        "In all cases, we see that readmission in 30 days is predictive of our two measurements of general patient health.\n",
        "\n",
        "The analysis is also surfacing the fact that patients with the value of race *Unknown* have fewer hospital visits in the preceding year (both emergency and non-emergency) than other groups. In practice, this would be a good reason to reach out to health professionals to investigate this patient cohort, to make sure that we understand why there is the systematic difference.\n",
        "\n",
        "Note that we have only investigated _predictive validity_, but there are other important aspects of construct validity which we may want to establish (see [Jacobs and Wallach, 2021](https://arxiv.org/abs/1912.05511))."
      ],
      "metadata": {
        "id": "HrCelj5_hR6a"
      }
    },
    {
      "cell_type": "markdown",
      "source": [
        "<a name=\"exercise-predictive-validity\"></a>\n",
        "### Exercise"
      ],
      "metadata": {
        "id": "V_4CZt-UBaOQ"
      }
    },
    {
      "cell_type": "markdown",
      "source": [
        "Check the predictive validity with respect to `gender` and `age`. Do you see any differences? Can you form a hypothesis why?"
      ],
      "metadata": {
        "id": "rW9ktRlqBhZA"
      }
    },
    {
      "cell_type": "code",
      "execution_count": null,
      "source": [
        "# Check for predictive validity by gender\r\n",
        "sns.catplot(y=\"had_inpatient_days\",x=\"readmit_30_days\",hue=\"gender\", data=df,\r\n",
        "            kind=\"point\", ci=95, dodge=True, join=False);"
      ],
      "outputs": [],
      "metadata": {
        "colab": {
          "base_uri": "https://localhost:8080/",
          "height": 382
        },
        "id": "VLom8GFbUfqR",
        "outputId": "91418775-b94d-4b3e-dba4-1305ef908a29"
      }
    },
    {
      "cell_type": "code",
      "execution_count": null,
      "source": [
        "# Check for predictive validity by age\r\n",
        "sns.catplot(y=\"had_inpatient_days\", x=\"readmit_30_days\", hue=\"age\", data=df,\r\n",
        "            kind=\"point\", ci=95, dodge=True, join=False);"
      ],
      "outputs": [],
      "metadata": {
        "colab": {
          "base_uri": "https://localhost:8080/",
          "height": 382
        },
        "id": "7PdFAu3lT-pD",
        "outputId": "7c3b6008-fdff-46dd-f749-ca0198a5193b"
      }
    },
    {
      "cell_type": "markdown",
      "source": [
        "## Label imbalance\n",
        "\n"
      ],
      "metadata": {
        "id": "3i9KdmTWKUJZ"
      }
    },
    {
      "cell_type": "markdown",
      "source": [
        "Now that we have established the validity of our label, we will check frequency of its values in our data. The frequency of different labels is an important descriptive characteristic in classification settings for several reasons:\n",
        "\n",
        "* some classification algorithms and performance measures might not work well with data sets with extreme class imbalance\n",
        "* in binary classification settings, our ability to evaluate error is often driven by the size of the smaller of the two classes (again, the smaller the sample the larger the uncertainty in estimates)\n",
        "* label imbalance may exacerbate the problems due to smaller group sizes in fairness assessment\n",
        "\n"
      ],
      "metadata": {
        "id": "ViGqA5VTGrEo"
      }
    },
    {
      "cell_type": "markdown",
      "source": [
        "Let's check how many samples in our data are labeled as positive and how many as negative."
      ],
      "metadata": {
        "id": "cos3--59EiZt"
      }
    },
    {
      "cell_type": "code",
      "execution_count": null,
      "source": [
        "df[\"readmit_30_days\"].value_counts() # counts"
      ],
      "outputs": [],
      "metadata": {
        "colab": {
          "base_uri": "https://localhost:8080/"
        },
        "id": "eR5ULLYGE4UK",
        "outputId": "02f2e533-2a7f-44af-e57f-c24c7b8b4d4d"
      }
    },
    {
      "cell_type": "code",
      "execution_count": null,
      "source": [
        "df[\"readmit_30_days\"].value_counts(normalize=True) # frequencies"
      ],
      "outputs": [],
      "metadata": {
        "colab": {
          "base_uri": "https://localhost:8080/"
        },
        "id": "0UWBbg4Cz90t",
        "outputId": "a0e1e14b-47f9-4f49-da41-ba53a7a63082"
      }
    },
    {
      "cell_type": "markdown",
      "source": [
        "As we can see, the target label is heavily skewed towards the patients not being readmitted within 30 days. In our dataset, only 11% of patients were readmitted within 30 days.\n",
        "\n",
        "Since there are fewer positive examples, we expect that we will have a much larger uncertainty (error bars) in our estimates of *false negative rates* (FNR), compared with *false positive rates* (FPR). This means that there will be larger differences between training FNR and test FNR, even if there is no overfitting, simply because of the smaller sample sizes. \n",
        "\n",
        "Our target metric is *balanced error rate*, which is the average of FPR and FNR. The value of this metric is robust to different frequencies of positives and negatives. However, since half of the metric is contributed by FNR, we expect the uncertainty in balanced error values to behave similarly to the uncertainty of FNR."
      ],
      "metadata": {
        "id": "b-_K_KHXz9MR"
      }
    },
    {
      "cell_type": "markdown",
      "source": [
        "Now, let's examine how much the label frequencies vary within each group defined by `race`:"
      ],
      "metadata": {
        "id": "OkopoyE3GQ8g"
      }
    },
    {
      "cell_type": "code",
      "execution_count": null,
      "source": [
        "sns.barplot(x=\"readmit_30_days\", y=\"race\", data=df, ci=95);"
      ],
      "outputs": [],
      "metadata": {
        "colab": {
          "base_uri": "https://localhost:8080/",
          "height": 285
        },
        "id": "tcH3Mxwmm4rC",
        "outputId": "75641d75-670d-4a81-a354-855f80c38613"
      }
    },
    {
      "cell_type": "markdown",
      "source": [
        "We see the rate of *30-day readmission* is similar for the *AfricanAmerican* and *Caucasian* groups, but appears smaller for *Other* and smallest for *Unknown* (this is consistent with an overall lower rate of hospital visits in the prior year). The smaller sample size of the *Other* and *Unknown* groups mean that there is more uncertainty around the estimate for these two groups."
      ],
      "metadata": {
        "id": "ox06aTMmm4rB"
      }
    },
    {
      "cell_type": "markdown",
      "source": [
        "## Proxies for sensitive features\n",
        "\n"
      ],
      "metadata": {
        "id": "0AA5uoqAKUSx"
      }
    },
    {
      "cell_type": "markdown",
      "source": [
        "We next investigate which of the features are highly predictive of the sensitive feature *race*; such features are called *proxies*.\n",
        "\n",
        "While in this tutorial we examine fairness issues through the **impact** of the machine-learning model on different populations, there are other concepts of fairness that seek to analyze how the **model might be using information** contained in the sensitive features, and which of the information uses are justified (often using causal reasoning). More pragmatically, certain uses of sensitive features (or proxies of it) might be illegal in some contexts.\n",
        "\n",
        "Another reason to understand the proxies is because they might explain why we see differences in impact on different groups even when our model does not have access to the sensitive features directly.\n",
        "\n",
        "In this section we briefly examine the identification of such proxies (but we don't go into legal or causality considerations).\n"
      ],
      "metadata": {
        "id": "7PSup7dMJjJg"
      }
    },
    {
      "cell_type": "markdown",
      "source": [
        "In the United States, *Medicare* and *Medicaid* are joint federal and state programs to help qualified individuals pay for healthcare expenses. *Medicare* is available to people over the age of 65 and younger individuals with severe illnesses. *Medicaid* is available to all individuals under the age of 65 whose adjusted gross income falls below the Federal Poverty Line. "
      ],
      "metadata": {
        "id": "1PHULa3eQEcn"
      }
    },
    {
      "cell_type": "markdown",
      "source": [
        "First, let's explore the relationship between patients who paid with *Medicaid* and our demographic features. Because *Medicaid* is available to low-income individuals, and race is correlated with socioeconomic status in the United States, we expect there to be a relationship between `race` and paying with *Medicaid*. "
      ],
      "metadata": {
        "id": "VNYx0OaVElUC"
      }
    },
    {
      "cell_type": "code",
      "execution_count": null,
      "source": [
        "sns.pointplot(y=\"medicaid\", x=\"race\", data=df, join=False);"
      ],
      "outputs": [],
      "metadata": {
        "colab": {
          "base_uri": "https://localhost:8080/",
          "height": 285
        },
        "id": "dR3eNMeY0HTi",
        "outputId": "aaa8498f-1f82-4003-c73c-ab6eaa3c2476"
      }
    },
    {
      "cell_type": "markdown",
      "source": [
        "From our analysis, we see that paying with *Medicaid* does appear to have some relationship with the patient's race. *Caucasian* patients are the least likely to pay with *Medicaid* compared with other groups. If paying with *Medicaid* is a proxy for socioeconomic status, then the patterns we find align with our understanding of wealth and race in the United States."
      ],
      "metadata": {
        "id": "MTcAD0oxbarW"
      }
    },
    {
      "cell_type": "markdown",
      "source": [
        "## Additional validity checks"
      ],
      "metadata": {
        "id": "9BLSciTKaBLd"
      }
    },
    {
      "cell_type": "markdown",
      "source": [
        "Similarly as we used predictive validity to check that our label aligns with the construct of \"likely to benefit from the care management program\", we can use predictive validity to verify that our various features are coherent with each other.\n",
        "\n",
        "For example, based on the eligibility criteria for *Medicaid* vs *Medicare*, we expect `medicaid` to be negatively correlated with age and `medicare` to be positively correlated with age:"
      ],
      "metadata": {
        "id": "-PzKOA59ezFs"
      }
    },
    {
      "cell_type": "code",
      "execution_count": null,
      "source": [
        "sns.pointplot(y=\"medicaid\", x=\"age\", data=df, ci=95, join=False);"
      ],
      "outputs": [],
      "metadata": {
        "colab": {
          "base_uri": "https://localhost:8080/",
          "height": 285
        },
        "id": "869rzUjSUe3C",
        "outputId": "bd4de952-204d-4159-addc-19b9d1b75167"
      }
    },
    {
      "cell_type": "code",
      "execution_count": null,
      "source": [
        "sns.pointplot(y=\"medicare\", x=\"age\", data=df, ci=95, join=False);"
      ],
      "outputs": [],
      "metadata": {
        "colab": {
          "base_uri": "https://localhost:8080/",
          "height": 285
        },
        "id": "nnI8lFHFZyBL",
        "outputId": "e0596d0e-efb7-4fc0-d775-99fdae53c8bf"
      }
    },
    {
      "cell_type": "markdown",
      "source": [
        "As we see, that's indeed the case."
      ],
      "metadata": {
        "id": "dBgmuoz8aXw4"
      }
    },
    {
      "cell_type": "markdown",
      "source": [
        "<a name=\"exercise-dataset\"></a>\n",
        "## Exercise"
      ],
      "metadata": {
        "id": "DdrS4By1dVk-"
      }
    },
    {
      "cell_type": "markdown",
      "source": [
        "Now, let's explore the relationship between paying with `medicare` and other demographic features. In the below sections, feel free to perform any analysis you would like to better understand the relationship between `medicare` and `race` and `gender` in this dataset."
      ],
      "metadata": {
        "id": "V-sOl0rqblsb"
      }
    },
    {
      "cell_type": "code",
      "execution_count": null,
      "source": [
        "sns.pointplot(y=\"medicare\", x=\"race\", data=df, ci=95, join=False);"
      ],
      "outputs": [],
      "metadata": {
        "colab": {
          "base_uri": "https://localhost:8080/",
          "height": 285
        },
        "id": "lp02oUbWZx54",
        "outputId": "40c1cc55-625f-47d5-a21a-8950db45ab23"
      }
    },
    {
      "cell_type": "code",
      "execution_count": null,
      "source": [
        "sns.pointplot(y=\"medicare\", x=\"age\", data=df, ci=95, join=False);"
      ],
      "outputs": [],
      "metadata": {
        "colab": {
          "base_uri": "https://localhost:8080/",
          "height": 285
        },
        "id": "ONJcedCWULXN",
        "outputId": "1f0e82df-b12a-459b-9b77-13285ae44008"
      }
    },
    {
      "cell_type": "code",
      "execution_count": null,
      "source": [
        "sns.pointplot(y=\"medicare\", x=\"gender\", data=df, ci=95, join=False);"
      ],
      "outputs": [],
      "metadata": {
        "colab": {
          "base_uri": "https://localhost:8080/",
          "height": 285
        },
        "id": "jXtY7_xdULLe",
        "outputId": "67948de6-24eb-4d61-9116-1d465534ee53"
      }
    },
    {
      "cell_type": "markdown",
      "source": [
        "<a name=\"datasheets\"></a>\n",
        "## Datasheets for datasets"
      ],
      "metadata": {
        "id": "ZVSerRqDG3we"
      }
    },
    {
      "cell_type": "markdown",
      "source": [
        "The _datasheets_ practice was proposed by [Gebru et al. (2018)](https://arxiv.org/abs/1803.09010). A datasheet of a given dataset documents the motivation behind the dataset creation, the dataset composition, collection process, recommended uses and many other characteristics. In the words of Gebru et al., the goal is to\n",
        "> facilitate better communication between dataset creators\n",
        "> and dataset consumers, and encourage the machine learning\n",
        "> community to prioritize transparency and accountability.\n",
        "\n",
        "In this section, we show how to fill in some of the sections of the datasheet for the dataset that we are using. The information is obtained directly from [Strack et al. (2014)](https://www.hindawi.com/journals/bmri/2014/781670/)."
      ],
      "metadata": {
        "id": "ACLMWSAwGaLc"
      }
    },
    {
      "cell_type": "markdown",
      "source": [
        "### Example sections of a datasheet [OPTIONAL SECTION]"
      ],
      "metadata": {
        "id": "fcc4cUMhZnCb"
      }
    },
    {
      "cell_type": "markdown",
      "source": [
        "**For what purpose was the dataset created?** *Was there a specific task in mind? Was there a specific gap that needed to be filled?*"
      ],
      "metadata": {
        "id": "0TIPJIhX1IKJ"
      }
    },
    {
      "cell_type": "markdown",
      "source": [
        "In the words of the dataset authors:\n",
        "> [...] the management of hyperglycemia in the hospitalized patient has a significant bearing on outcome, in terms of both morbidity and mortality. This recognition has led to the development of formalized protocols in the intensive care unit (ICU) setting [...] However, the same cannot be said for most non-ICU inpatient admissions. [...] there are few national assessments of diabetes care in the hospitalized patient which could serve as a baseline for change [in the non-ICU protocols]. The present analysis of a large clinical database was undertaken to examine historical patterns of diabetes care in patients with diabetes admitted to a US hospital and to inform future directions which might lead to improvements in patient safety."
      ],
      "metadata": {
        "id": "sBNKbKJQJbmf"
      }
    },
    {
      "cell_type": "markdown",
      "source": [
        "**Who created the dataset (e.g., which team) and on behalf of which entity?**"
      ],
      "metadata": {
        "id": "iA-XRu0o1ErL"
      }
    },
    {
      "cell_type": "markdown",
      "source": [
        "The dataset was created by [Strack et al. (2014)](https://www.hindawi.com/journals/bmri/2014/781670/): a team of researchers from a variety of disciplines, ranging from computer science to public health, from three institutions (Virginia Commonwealth University, University of Cordoba, and Polish Academy of Sciences)."
      ],
      "metadata": {
        "id": "zQSHxl26LQkt"
      }
    },
    {
      "cell_type": "markdown",
      "source": [
        "#### **Composition**"
      ],
      "metadata": {
        "id": "0Qx32mSJG3zP"
      }
    },
    {
      "cell_type": "markdown",
      "source": [
        "**What do the instances that comprise the dataset represent?**\n",
        "\n"
      ],
      "metadata": {
        "id": "8RS2V8001F3E"
      }
    },
    {
      "cell_type": "markdown",
      "source": [
        "Each instance in this dataset represents a hospital admission for diabetic patient (diabetes was entered as a possible diagnosis for the patient) whose hospital stay lasted between one to fourteen days."
      ],
      "metadata": {
        "id": "JPy_TXp_1Gub"
      }
    },
    {
      "cell_type": "markdown",
      "source": [
        "**Is any information missing from individual instances?**"
      ],
      "metadata": {
        "id": "eOb0FPeOJqxm"
      }
    },
    {
      "cell_type": "markdown",
      "source": [
        "The features `Payer Code` and `Medical Specialty` have 40,255 and 49,947 missing values, respectively. For `Payer Code`, these missing values are reflected in the category *Unknown*. For `Medical Specialty`, these missing values are reflecting in the category *Missing*. \n",
        "\n",
        "For our demographic features, we are missing the `Gender` information for three patients in the dataset. These three records were dropped from our final dataset. Regarding `Race`, the 2,271 missing values were recoded into the `Unknown` race category. \n",
        "\n"
      ],
      "metadata": {
        "id": "4vlZWeQjJq8w"
      }
    },
    {
      "cell_type": "markdown",
      "source": [
        "**Does the dataset identify any subpopulations (e.g., by age, gender)?**"
      ],
      "metadata": {
        "id": "Uh0lLV6mJrSp"
      }
    },
    {
      "cell_type": "markdown",
      "source": [
        "Patients are identified by gender, age group, and race. \n",
        "\n",
        "For gender, patients are identified as Male, Female, or Unknown. There were only three instances where the patient gender is *Unknown*, so these records were removed from our dataset.\n",
        "\n",
        "Gender | Count| Percentage\n",
        "------ | ------|----------\n",
        "Male      | 47055     | 46.2%\n",
        "Female     |  54708     | 53.7%  \n",
        "\n",
        "\n",
        "\n",
        "For age group, patients are binned into three age buckets: *30 years or younger*, *30-60 years*, *Older than 60 years*.\n",
        "\n",
        "Age Group |Count| Percentage\n",
        "------ | ------|----------\n",
        "30 years or younger      | 2509     | 2.4%\n",
        "30-60 years       | 30716   | 30.2%\n",
        "Older than 60 years      |   68538    | 67.4%  \n",
        "\n",
        "\n",
        "For race, patients are identified as *AfricanAmerican*, *Caucasian*, and *Other*. For individuals whose race information was not collected during hospital admission, their race is listed as *Unknown*.\n",
        "\n",
        "Race | Count| Percentage\n",
        "------ | ------|----------\n",
        "Caucasian      | 76099     | 74.8%\n",
        "AfricanAmerican     |  19210     | 18.9%  \n",
        "Other        |     4183         |  4.1%\n",
        "Unknown        |    2271          | 2.2%"
      ],
      "metadata": {
        "id": "U-ZnQfibJrcQ"
      }
    },
    {
      "cell_type": "markdown",
      "source": [
        "#### **Preprocessing**"
      ],
      "metadata": {
        "id": "yzXw0egqG4J4"
      }
    },
    {
      "cell_type": "markdown",
      "source": [
        "**Was any preprocessing/cleaning/labeling of the data done?**"
      ],
      "metadata": {
        "id": "rGfxGcI21Fyj"
      }
    },
    {
      "cell_type": "markdown",
      "source": [
        "For the `race` feature, the categories of *Asian* and *Hispanic* and *Other* were merged into the *Other* category. The `age` feature was bucketed into 30-year intervals (*30 years and below*, *30 to 60 years*, and *Over 60 years*). The `discharge_disposition_id` was binarized into a boolean outcome on whether an patient was discharged to home.\n",
        "\n",
        "The full preprocessing code is provided in the file `preprocess.py` of the tutorial [GitHub repository](https://github.com/fairlearn/talks/blob/main/2021_scipy_tutorial/).\n",
        "\n",
        "\n"
      ],
      "metadata": {
        "id": "5jO4Pf911GrL"
      }
    },
    {
      "cell_type": "markdown",
      "source": [
        "#### **Uses**\n",
        "\n"
      ],
      "metadata": {
        "id": "C8b5nXfPIA7a"
      }
    },
    {
      "cell_type": "markdown",
      "source": [
        "**Has the dataset been used for any tasks already?** "
      ],
      "metadata": {
        "id": "_YH8evvN1HX2"
      }
    },
    {
      "cell_type": "markdown",
      "source": [
        "This dataset has been used by [Strack et al. (2014)](https://www.hindawi.com/journals/bmri/2014/781670/) to model the relationship between patient readmission and HbA1c measurement during admission, based on primary medical diagnosis.\n",
        "\n",
        "The dataset is publicly available through the UCI Machine Learning Repository and, as of May 2021, has received over 350,000 views."
      ],
      "metadata": {
        "id": "H8RW1LKW1Hbg"
      }
    },
    {
      "cell_type": "markdown",
      "source": [
        "# Training the initial model"
      ],
      "metadata": {
        "id": "HB7zfhA1UKiW"
      }
    },
    {
      "cell_type": "markdown",
      "source": [
        "We next train a classification model to predict our target variable (readmission within 30 days) while optimizing balanced accuracy.\n",
        "\n",
        "What kind of model should we train? Deep neural nets? Random forests? Logistic regression?\n",
        "\n",
        "There are a variety of considerations. We highlight two:\n",
        "\n",
        "* **Interpretability.** Interpretability is tightly linked with questions of fairness. There are several reasons why it is important to have interpretable models that are open to the stakeholder scrutiny:\n",
        "  * It allows discovery of fairness issues that were not discovered by the data science team.\n",
        "  * It provides a path toward recourse for those that are affected by the model.\n",
        "  * It allows for a *face validity* check, a \"sniff test\", by experts to verify that the model \"makes sense\" (at the face value). While this step is subjective, it is really important when the model is applied to different populations than those on which the assessment was conducted.\n",
        "\n",
        "* **Model expressiveness.** How well can the model separate positive examples from negative examples? How well can it do so given the available dataset size? Can it do so across all groups or does it need to trade off performance on one group against performance on another group?\n",
        "\n",
        "Some additional considerations are training time (this impacts the ability to iterate), familiarity (this impacts the ability to fine tune and debug), and carbon footprint (this impacts the Earth climate both directly and indirectly by normalizing unnecessarily heavy workloads)."
      ],
      "metadata": {
        "id": "0f7jZOzGX24Z"
      }
    },
    {
      "cell_type": "markdown",
      "source": [
        "### Decision point: Model type"
      ],
      "metadata": {
        "id": "7hbsqXap9Mzp"
      }
    },
    {
      "cell_type": "markdown",
      "source": [
        "We will use a logistic regression model. Our reasoning:\n",
        "\n",
        "* **Interpretability**. Logistic models over a small number of variables (as used here) are highly interpretable in the sense that stakeholders can simulate them easily.\n",
        "\n",
        "* **Model expressiveness**. Logistic regression predictions are described by a linear weighting of the feature values. The concern might be that this is too simple. The previous work by [Strack et al. (2014)](https://www.hindawi.com/journals/bmri/2014/781670/), which also used a logistic model to predict readmission rates concluded that a slightly more expressive model might be useful (their analysis uncovered 8 pairwise interactions that were significant, see their Table 5)."
      ],
      "metadata": {
        "id": "iftAwdfoVDM0"
      }
    },
    {
      "cell_type": "markdown",
      "source": [
        "## Prepare training and test datasets"
      ],
      "metadata": {
        "id": "52wWLOFoXkho"
      }
    },
    {
      "cell_type": "markdown",
      "source": [
        "As we mentioned in the task definition, our target variable is **readmission within 30 days**, and our sensitive feature for the purposes of fairness assessment is **race**.\n"
      ],
      "metadata": {
        "id": "vCwtDyx8yqSG"
      }
    },
    {
      "cell_type": "code",
      "execution_count": null,
      "source": [
        "target_variable = \"readmit_30_days\"\r\n",
        "demographic = [\"race\", \"gender\"]\r\n",
        "sensitive = [\"race\"]\r\n",
        "# If multiple sensitive features are chosen, the rest of the script considers intersectional groups."
      ],
      "outputs": [],
      "metadata": {
        "id": "WpiSRj2JyqSH"
      }
    },
    {
      "cell_type": "code",
      "execution_count": null,
      "source": [
        "Y, A = df.loc[:, target_variable], df.loc[:, sensitive]"
      ],
      "outputs": [],
      "metadata": {
        "id": "uaNqDyqvi1QE"
      }
    },
    {
      "cell_type": "markdown",
      "source": [
        "We next drop the features that we don't want to use in our model and expand the categorical features into 0/1 indicators (\"dummies\")."
      ],
      "metadata": {
        "id": "niu49A9YXQmf"
      }
    },
    {
      "cell_type": "code",
      "execution_count": null,
      "source": [
        "X = pd.get_dummies(df.drop(columns=[\r\n",
        "    \"race\",\r\n",
        "    \"race_all\",\r\n",
        "    \"discharge_disposition_id\",\r\n",
        "    \"readmitted\",\r\n",
        "    \"readmit_binary\",\r\n",
        "    \"readmit_30_days\"\r\n",
        "]))"
      ],
      "outputs": [],
      "metadata": {
        "id": "JXyRuCsri1cY"
      }
    },
    {
      "cell_type": "code",
      "execution_count": null,
      "source": [
        "X.head() # sanity check"
      ],
      "outputs": [],
      "metadata": {
        "colab": {
          "base_uri": "https://localhost:8080/",
          "height": 274
        },
        "id": "kAA0sIhQUWFa",
        "outputId": "73d62224-bf2e-40d2-a29a-8909e26d3cf9"
      }
    },
    {
      "cell_type": "markdown",
      "source": [
        "We split our data into a training and test portion. The test portion will be used to evaluate our performance metric (i.e., balanced accuracy), but also for fairness assessment. The split is half/half for training and test to ensure that we have sufficient sample sizes for fairness assessment."
      ],
      "metadata": {
        "id": "ATzi8cKCD7V3"
      }
    },
    {
      "cell_type": "code",
      "execution_count": null,
      "source": [
        "random_seed = 445\r\n",
        "np.random.seed(random_seed)"
      ],
      "outputs": [],
      "metadata": {
        "id": "-wpnURazmJ4-"
      }
    },
    {
      "cell_type": "code",
      "execution_count": null,
      "source": [
        "X_train, X_test, Y_train, Y_test, A_train, A_test, df_train, df_test = train_test_split(\r\n",
        "    X,\r\n",
        "    Y,\r\n",
        "    A,\r\n",
        "    df,\r\n",
        "    test_size=0.50,\r\n",
        "    stratify=Y,\r\n",
        "    random_state=random_seed\r\n",
        ")"
      ],
      "outputs": [],
      "metadata": {
        "id": "xgl_b-CUl7TW"
      }
    },
    {
      "cell_type": "markdown",
      "source": [
        "Our performance metric is **balanced accuracy**, so for the purposes of training (but not evaluation!) we will resample the data set, so that it has the same number of positive and negative examples. This means that we can use estimators that optimize standard accuracy (although some estimators allow the use us importance weights).\n"
      ],
      "metadata": {
        "id": "eSMbXR9iVqr8"
      }
    },
    {
      "cell_type": "markdown",
      "source": [
        "Because we are downsampling the number of negative examples, we create a training dataset with a significantly lower number of data points. For more complex machine learning models, this lower number of training data points may affect the model's accuracy."
      ],
      "metadata": {
        "id": "nPNQpb2ZN1ku"
      }
    },
    {
      "cell_type": "code",
      "execution_count": null,
      "source": [
        "def resample_dataset(X_train, Y_train, A_train):\r\n",
        "\r\n",
        "  negative_ids = Y_train[Y_train == 0].index\r\n",
        "  positive_ids = Y_train[Y_train == 1].index\r\n",
        "  balanced_ids = positive_ids.union(np.random.choice(a=negative_ids, size=len(positive_ids)))\r\n",
        "\r\n",
        "  X_train = X_train.loc[balanced_ids, :]\r\n",
        "  Y_train = Y_train.loc[balanced_ids]\r\n",
        "  A_train = A_train.loc[balanced_ids, :]\r\n",
        "  return X_train, Y_train, A_train"
      ],
      "outputs": [],
      "metadata": {
        "id": "L1aVgzyFNa4B"
      }
    },
    {
      "cell_type": "code",
      "execution_count": null,
      "source": [
        "X_train_bal, Y_train_bal, A_train_bal = resample_dataset(X_train, Y_train, A_train)"
      ],
      "outputs": [],
      "metadata": {
        "id": "6Ogw-r3DQsds"
      }
    },
    {
      "cell_type": "markdown",
      "source": [
        "## Save descriptive statistics of training and test data"
      ],
      "metadata": {
        "id": "fRddJS7XXv5n"
      }
    },
    {
      "cell_type": "markdown",
      "source": [
        "We next evaluate and save descriptive statistics of the training dataset. These will be provided as part of _model cards_ to document our training."
      ],
      "metadata": {
        "id": "hZ-T4lGxX0IQ"
      }
    },
    {
      "cell_type": "code",
      "execution_count": null,
      "source": [
        "sns.countplot(x=\"race\", data=A_train_bal)\r\n",
        "plt.title(\"Sensitive Attributes for Training Dataset\")\r\n",
        "sensitive_train = figure_to_base64str(plt)"
      ],
      "outputs": [],
      "metadata": {
        "colab": {
          "base_uri": "https://localhost:8080/",
          "height": 301
        },
        "id": "n3GhcUCm2LjD",
        "outputId": "9a3be0c7-99ae-4de6-b61b-cf0fd0bd6b0e"
      }
    },
    {
      "cell_type": "code",
      "execution_count": null,
      "source": [
        "sns.countplot(x=Y_train_bal)\r\n",
        "plt.title(\"Target Label Histogram for Training Dataset\")\r\n",
        "outcome_train = figure_to_base64str(plt)"
      ],
      "outputs": [],
      "metadata": {
        "colab": {
          "base_uri": "https://localhost:8080/",
          "height": 301
        },
        "id": "lIp3j8fD2LjE",
        "outputId": "48b4cbdf-c0ad-4a5b-d5f2-987d6b75229b"
      }
    },
    {
      "cell_type": "code",
      "execution_count": null,
      "source": [
        "sns.countplot(x=\"race\", data=A_test)\r\n",
        "plt.title(\"Sensitive Attributes for Testing Dataset\")\r\n",
        "sensitive_test = figure_to_base64str(plt)"
      ],
      "outputs": [],
      "metadata": {
        "colab": {
          "base_uri": "https://localhost:8080/",
          "height": 301
        },
        "id": "czIGZYhk2LjF",
        "outputId": "07490aa7-c22e-4614-8580-be8b8b6db229"
      }
    },
    {
      "cell_type": "code",
      "execution_count": null,
      "source": [
        "sns.countplot(x=Y_test)\r\n",
        "plt.title(\"Target Label Histogram for Test Dataset\")\r\n",
        "outcome_test = figure_to_base64str(plt)"
      ],
      "outputs": [],
      "metadata": {
        "colab": {
          "base_uri": "https://localhost:8080/",
          "height": 301
        },
        "id": "YjhW0t9-2LjF",
        "outputId": "0785b4e1-88b8-4ab3-cb0b-9bf1d3df5ffe"
      }
    },
    {
      "cell_type": "markdown",
      "source": [
        "## Train the model"
      ],
      "metadata": {
        "id": "4V523GQbYobT"
      }
    },
    {
      "cell_type": "markdown",
      "source": [
        "We train a logistic regression model and save its predictions on test data for analysis."
      ],
      "metadata": {
        "id": "g7jwN2cVbO0g"
      }
    },
    {
      "cell_type": "code",
      "execution_count": null,
      "source": [
        "unmitigated_pipeline = Pipeline(steps=[\r\n",
        "    (\"preprocessing\", StandardScaler()),\r\n",
        "    (\"logistic_regression\", LogisticRegression(max_iter=1000))\r\n",
        "])"
      ],
      "outputs": [],
      "metadata": {
        "id": "f6nKDzt164vw"
      }
    },
    {
      "cell_type": "code",
      "execution_count": null,
      "source": [
        "unmitigated_pipeline.fit(X_train_bal, Y_train_bal)"
      ],
      "outputs": [],
      "metadata": {
        "colab": {
          "base_uri": "https://localhost:8080/",
          "height": 111
        },
        "id": "ld9clGbHl7tv",
        "outputId": "89fa7f0d-680f-424f-a7cd-96686987a943"
      }
    },
    {
      "cell_type": "code",
      "execution_count": null,
      "source": [
        "Y_pred_proba = unmitigated_pipeline.predict_proba(X_test)[:,1]\r\n",
        "Y_pred = unmitigated_pipeline.predict(X_test)"
      ],
      "outputs": [],
      "metadata": {
        "id": "Ok-eREU0xbAD"
      }
    },
    {
      "cell_type": "markdown",
      "source": [
        "Check model performance on test data."
      ],
      "metadata": {
        "id": "nkA0K8KV0HeD"
      }
    },
    {
      "cell_type": "code",
      "execution_count": null,
      "source": [
        "# Plot ROC curve of probabilistic predictions\r\n",
        "plot_roc_curve(unmitigated_pipeline, X_test, Y_test);"
      ],
      "outputs": [],
      "metadata": {
        "colab": {
          "base_uri": "https://localhost:8080/",
          "height": 285
        },
        "id": "nz7QJOLx0RVH",
        "outputId": "ef446998-8269-4e9b-c8ba-43a777b947d8"
      }
    },
    {
      "cell_type": "code",
      "execution_count": null,
      "source": [
        "# Show balanced accuracy rate of the 0/1 predictions\r\n",
        "balanced_accuracy_score(Y_test, Y_pred)"
      ],
      "outputs": [],
      "metadata": {
        "colab": {
          "base_uri": "https://localhost:8080/"
        },
        "id": "pxYppCAy1owq",
        "outputId": "b9febbe3-8016-43a7-c14a-98a94f05716a"
      }
    },
    {
      "cell_type": "markdown",
      "source": [
        "As we see, the performance of the model is well above the performance of a coin flip (whose performance would be 0.5 in both cases), albeit it is quite far from a perfect classifier (whose performance would be 1.0 in both cases).\n"
      ],
      "metadata": {
        "id": "jmWrDs5N2HVD"
      }
    },
    {
      "cell_type": "markdown",
      "source": [
        "## Inspect the coefficients of trained model\n",
        "\n",
        "We check the coefficients of the fitted model to make sure that they \"makes sense\". While subjective, this step is important and helps catch mistakes and might point out to some fairness issues. However, we will systematically assess the fairness of the model in the next section.\n",
        "\n",
        "*Note that coefficients are also a proxy for \"feature importance\", but this interpretation can be misleading when features are highly correlated.*"
      ],
      "metadata": {
        "id": "AmhwS1Z9VnK9"
      }
    },
    {
      "cell_type": "code",
      "execution_count": null,
      "source": [
        "coef_series = pd.Series(data=unmitigated_pipeline.named_steps[\"logistic_regression\"].coef_[0], index=X.columns)\r\n",
        "coef_series.sort_values().plot.barh(figsize=(4, 12), legend=False);"
      ],
      "outputs": [],
      "metadata": {
        "colab": {
          "base_uri": "https://localhost:8080/",
          "height": 703
        },
        "id": "Owzkar8R9Cyy",
        "outputId": "7c073a93-e3e5-4f22-e089-217f97967df7"
      }
    },
    {
      "cell_type": "markdown",
      "source": [
        "# **Fairness assessment**"
      ],
      "metadata": {
        "id": "hX8CrWjhD7MB"
      }
    },
    {
      "cell_type": "markdown",
      "source": [
        "## Measuring fairness-related harms\n",
        "\n",
        "\n",
        "\n"
      ],
      "metadata": {
        "id": "0CS9-jaxtxh2"
      }
    },
    {
      "cell_type": "markdown",
      "source": [
        "The goal of fairness assessment is to answer the question: *Which groups of people may be disproportionately negatively impacted by an AI system and in what ways?*\n",
        "\n",
        "The steps of the assesment are as follows:\n",
        "1. Identify harms\n",
        "2. Identify the groups that might be harmed\n",
        "3. Quantify harms\n",
        "4. Compare quantified harms across the groups\n",
        "\n",
        "We next examine these four steps in more detail."
      ],
      "metadata": {
        "id": "s8TMm9w8duVY"
      }
    },
    {
      "cell_type": "markdown",
      "source": [
        "### 1. Identify harms\n",
        "\n",
        "For example, in a system for screening job applications, qualified candidates that are automatically rejected experience an allocation harm. In a speech-to-text transcription system, high error rates constitute harm in the quality of service.\n",
        "\n",
        "**In the health care scenario**, the patients that would benefit from a care management program, but are not recommended for it experience an allocation harm. In the context of the classification scenario these are **FALSE NEGATIVES**."
      ],
      "metadata": {
        "id": "X6hMFmzmPbL6"
      }
    },
    {
      "cell_type": "markdown",
      "source": [
        "### 2. Identify the groups that might be harmed\n",
        "\n",
        "In most applications, we consider demographic groups including historically marginalized groups (e.g., based on gender, race, ethnicity). We should also consider groups that are relevant to a particular application. For example, for speech-to-text transcription, groups based on the regional dialect or being a native or a non-native speaker.\n",
        "\n",
        "It is also important to consider group intersections, for example, in addition to considering groups according to gender and groups according to race, it is also important to consider their intersections (e.g., Black women, Latinx nonbinary people, etc.).\n",
        "\n",
        "**In the health care scenario**, based on the previous work, we focus on groups defined by **RACE**."
      ],
      "metadata": {
        "id": "aqqUk1mjPnpM"
      }
    },
    {
      "cell_type": "markdown",
      "source": [
        "### 3. Quantify harms\n",
        "\n",
        "Define metrics that quantify harms or benefits:\n",
        "\n",
        "* In job screening scenario, we need to quantify the number of candidates that are classified as \"negative\" (not recommended for the job), but whose true label is \"positive\" (they are qualified). One possible metric is the **false negative rate**: fraction of qualified candidates that are screened out.\n",
        "\n",
        "* In speech-to-text scenario, the harm could be measured by **word error rate**, number of mistakes in a transcript divided by the overall number of words.\n",
        "\n",
        "* **In the health care scenario**, we could consider two metrics for quantifying harms / benefits:\n",
        "  * **false negative rate**: fraction of patients that are readmitted within 30 days, but that are not recommended for the care management program; this quantifies harm\n",
        "  * **selection rate**: overall fraction of patients that are recommended for the care management program (regardless of whether they are readmittted with 30 days or no); this quantifies benefit; here the assumption is that all patients benefit similarly from the extra care.\n",
        "\n",
        "There are several reasons for including selection rate in addition to false negative rate. We would like to monitor how the benefits are allocated, focusing on groups that might be disadvantaged. Another reason is to get extra robustness in our assessement, because our measure (i.e., readmission within 30 days) is only an imperfect measure of our construct (who is most likely to benefit from the care management program). The auxiliary metrics, like selection rate, may alert us to large disparities in how the benefit is allocated, and allow us to catch issues that we might have missed.\n"
      ],
      "metadata": {
        "id": "nmvSqI3dPrVk"
      }
    },
    {
      "cell_type": "markdown",
      "source": [
        "### 4. Compare quantified harms across the groups\n",
        "\n",
        "The workhorse of fairness assessment are _disaggregated metrics_, which are **metrics evaluated on slices of data**. For example, to measure harms due to errors, we would begin by evaluating the errors on each slice of the data that corresponds to a group we identified in Step 2.\n",
        "If some of the groups are seeing much larger errors than other groups, we would flag this as a fairness harm.\n",
        "\n",
        "To summarize the disparities in errors (or other metrics), we may want to report quantities such as the **difference** or **ratio** of the metric values between the best and the worst slice. In settings where the goal is to guarantee certain minimum quality of service (such as speech recognition), it is also meaningful to report the **worst performance** across all considered groups.\n",
        "\n"
      ],
      "metadata": {
        "id": "fpJXt6miPvRX"
      }
    },
    {
      "cell_type": "markdown",
      "source": [
        "For example, when comparing false negative rate across groups defined by race, we may summarize our findings with a table like the following:\n",
        "\n",
        "| | false negative rate<br>(FNR) |\n",
        "|---|---|\n",
        "| AfricanAmerican | 0.43 |\n",
        "| Caucasian | 0.44 |\n",
        "| Other | 0.52 |\n",
        "| Unknown | 0.67 |\n",
        "| | |\n",
        "|_largest difference_| 0.24 &nbsp;&nbsp;(best is 0.0)|\n",
        "|_smallest ratio_| 0.64 &nbsp;&nbsp;(best is 1.0)|\n",
        "|_maximum_<br>_(worst-case) FNR_|0.67|"
      ],
      "metadata": {
        "id": "7Is_zdXvnW0s"
      }
    },
    {
      "cell_type": "markdown",
      "source": [
        "## Fairness assessment with `MetricFrame`"
      ],
      "metadata": {
        "id": "9CjHlopBDgSG"
      }
    },
    {
      "cell_type": "markdown",
      "source": [
        "Fairlearn provides the data structure called `MetricFrame` to enable evaluation of disaggregated metrics. We will show how to use a `MetricFrame` object to assess the trained `LogisticRegression` classifier for potential fairness-related harms.\n",
        "\n"
      ],
      "metadata": {
        "id": "epJO2baHV2Dy"
      }
    },
    {
      "cell_type": "code",
      "execution_count": null,
      "source": [
        "# In its simplest form MetricFrame takes four arguments:\r\n",
        "#    metric_function with signature metric_function(y_true, y_pred)\r\n",
        "#    y_true: array of labels\r\n",
        "#    y_pred: array of predictions\r\n",
        "#    sensitive_features: array of sensitive feature values\r\n",
        "\r\n",
        "mf1 = MetricFrame(metrics=false_negative_rate,\r\n",
        "                  y_true=Y_test,\r\n",
        "                  y_pred=Y_pred,\r\n",
        "                  sensitive_features=df_test['race'])\r\n",
        "\r\n",
        "# The disaggregated metrics are stored in a pandas Series mf1.by_group:\r\n",
        "\r\n",
        "mf1.by_group"
      ],
      "outputs": [],
      "metadata": {
        "colab": {
          "base_uri": "https://localhost:8080/"
        },
        "id": "0iiAYRvoduPh",
        "outputId": "3287b55e-3610-424d-a99d-a6e19c2b1693"
      }
    },
    {
      "cell_type": "code",
      "execution_count": null,
      "source": [
        "# The largest difference, smallest ratio and worst-case performance are accessed as\r\n",
        "#   mf1.difference(), mf1.ratio(), mf1.group_max()\r\n",
        "\r\n",
        "print(f\"difference: {mf1.difference():.3}\\n\"\r\n",
        "      f\"ratio: {mf1.ratio():.3}\\n\"\r\n",
        "      f\"max across groups: {mf1.group_max():.3}\")"
      ],
      "outputs": [],
      "metadata": {
        "colab": {
          "base_uri": "https://localhost:8080/"
        },
        "id": "5tl1Qxt1fT2v",
        "outputId": "e2af1585-7602-4664-f396-2f0d395d4ad2"
      }
    },
    {
      "cell_type": "code",
      "execution_count": null,
      "source": [
        "# You can also evaluate multiple metrics by providing a dictionary\r\n",
        "\r\n",
        "metrics_dict = {\r\n",
        "    \"selection_rate\": selection_rate,\r\n",
        "    \"false_negative_rate\": false_negative_rate,\r\n",
        "    \"balanced_accuracy\": balanced_accuracy_score,\r\n",
        "}\r\n",
        "\r\n",
        "metricframe_unmitigated = MetricFrame(metrics=metrics_dict,\r\n",
        "                  y_true=Y_test,\r\n",
        "                  y_pred=Y_pred,\r\n",
        "                  sensitive_features=df_test['race'])\r\n",
        "\r\n",
        "# The disaggregated metrics are then stored in a pandas DataFrame:\r\n",
        "\r\n",
        "metricframe_unmitigated.by_group"
      ],
      "outputs": [],
      "metadata": {
        "colab": {
          "base_uri": "https://localhost:8080/",
          "height": 203
        },
        "id": "R2zmBHo5gk-F",
        "outputId": "e970f25b-7218-4430-8969-d8f891ddce27"
      }
    },
    {
      "cell_type": "code",
      "execution_count": null,
      "source": [
        "# The largest difference, smallest ratio, and the maximum and minimum values\r\n",
        "# across the groups are then all pandas Series, for example:\r\n",
        "\r\n",
        "metricframe_unmitigated.difference()"
      ],
      "outputs": [],
      "metadata": {
        "colab": {
          "base_uri": "https://localhost:8080/"
        },
        "id": "Hc29jRJrhlSC",
        "outputId": "e2ffee50-2764-434f-d322-2a8fdafe6a09"
      }
    },
    {
      "cell_type": "code",
      "execution_count": null,
      "source": [
        "# You'll probably want to view them transposed:\r\n",
        "\r\n",
        "pd.DataFrame({'difference': metricframe_unmitigated.difference(),\r\n",
        "              'ratio': metricframe_unmitigated.ratio(),\r\n",
        "              'group_min': metricframe_unmitigated.group_min(),\r\n",
        "              'group_max': metricframe_unmitigated.group_max()}).T"
      ],
      "outputs": [],
      "metadata": {
        "colab": {
          "base_uri": "https://localhost:8080/",
          "height": 172
        },
        "id": "bVbjFa4Aig9Y",
        "outputId": "228f2de1-4de8-4059-b166-c75550e52de2"
      }
    },
    {
      "cell_type": "code",
      "execution_count": null,
      "source": [
        "# You can also easily plot all of the metrics using DataFrame plotting capabilities\r\n",
        "\r\n",
        "metricframe_unmitigated.by_group.plot.bar(subplots=True, layout= [1,3], figsize=(12, 4),\r\n",
        "                      legend=False, rot=-45, position=1.5);"
      ],
      "outputs": [],
      "metadata": {
        "colab": {
          "base_uri": "https://localhost:8080/",
          "height": 311
        },
        "id": "DvjRBIcjjSkl",
        "outputId": "0aebd5a1-f287-4d75-cdd3-8af1daf1d190"
      }
    },
    {
      "cell_type": "markdown",
      "source": [
        "According to the above bar chart, it seems that the group *Unknown* is selected for the care management program less often than other groups as reflected by the selection rate. Also this group experiences the largest false negative rate, so a larger fraction of group members that are likely to benefit from the care management program are not selected. Finally, the balanced accuracy on this group is also the lowest.\n",
        "\n"
      ],
      "metadata": {
        "id": "b5C3SITjuPUm"
      }
    },
    {
      "cell_type": "markdown",
      "source": [
        "We observe disparity, even though we did not include race in our model. There's a variety of reasons why such disparities may occur. It could be due to representational issues (i.e., not enough instances per group), or because the feature distribution itself differs across groups (i.e., different relationship between features and target variable, obvious example would be people with darker skin in facial recognition systems, but can be much more subtle). Real-world applications often exhibit both kinds of issues at the same time."
      ],
      "metadata": {
        "id": "c2Qs68rv2_Vg"
      }
    },
    {
      "cell_type": "markdown",
      "source": [
        "<a name=\"train-other-models\"></a>\n",
        "## Exercise: Train other fairness-unaware models"
      ],
      "metadata": {
        "id": "n_1Rm8PbPmmk"
      }
    },
    {
      "cell_type": "markdown",
      "source": [
        "In this section, you'll be training your own fairness-unaware model and evaluate the model using the `MetricFrame` for fairness-related harms."
      ],
      "metadata": {
        "id": "oeQF5qT6Qs-C"
      }
    },
    {
      "cell_type": "markdown",
      "source": [
        "We encourage you to explore the model's performance across different sensitive features (such as `age` or `gender`) as well as different model performance metrics."
      ],
      "metadata": {
        "id": "SsHy-Os0oVQU"
      }
    },
    {
      "cell_type": "markdown",
      "source": [
        "1.) First, let's train our machine learning model. We'll create a `HistGradientBoostingClassifier` and fit it to the balanced training data set."
      ],
      "metadata": {
        "id": "61GU_zrFSC-6"
      }
    },
    {
      "cell_type": "code",
      "execution_count": null,
      "source": [
        "from sklearn.experimental import enable_hist_gradient_boosting\r\n",
        "from sklearn.ensemble import HistGradientBoostingClassifier\r\n",
        "\r\n",
        "# Create your model here\r\n",
        "clf = HistGradientBoostingClassifier()\r\n",
        "\r\n",
        "# Fit the model to the training data\r\n",
        "clf.fit(X_train_bal, Y_train_bal)\r\n",
        "exercise_pred = clf.predict(X_test)"
      ],
      "outputs": [],
      "metadata": {
        "id": "cUPOfey0QtJ_"
      }
    },
    {
      "cell_type": "code",
      "execution_count": null,
      "source": [
        "#from sklearn.experimental import enable_hist_gradient_boosting\r\n",
        "#from sklearn.ensemble import HistGradientBoostingClassifier\r\n",
        "\r\n",
        "# Create your model here\r\n",
        "#clf = HistGradientBoostingClassifier()\r\n",
        "\r\n",
        "# Fit the model to the training data\r\n",
        "#clf.fit(__________, ________)\r\n",
        "#exercise_pred = clf.predict(______)"
      ],
      "outputs": [],
      "metadata": {
        "id": "bSIDkuV4_Rou"
      }
    },
    {
      "cell_type": "markdown",
      "source": [
        "2.) Next, let's evaluate the fairness of the model using the `MetricFrame`. In the below cells, create a `MetricFrame` that looks at the following metrics:\r\n",
        "\r\n",
        "\r\n",
        "*   _Count_: The number of data points belonging to each sensitive feature category.\r\n",
        "*   _False Positive Rate_: $\\dfrac{FP}{FP+TN}$\r\n",
        "*  _Recall Score_: $\\dfrac{TP}{TP+FN}$\r\n",
        "\r\n",
        "As an extra challenge, you can use the prediction probabilities to compute the _ROC AUC Score_ for each sensitive group pair.\r\n",
        "\r\n"
      ],
      "metadata": {
        "id": "Fnnles-p6OXr"
      }
    },
    {
      "cell_type": "code",
      "execution_count": null,
      "source": [
        "# Define additional fairness metrics of interest here\r\n",
        "exercise_metrics = {\r\n",
        "    \"count\": count,\r\n",
        "    \"false_positive_rate\": false_positive_rate,\r\n",
        "    \"recall_score\": recall_score\r\n",
        "}"
      ],
      "outputs": [],
      "metadata": {
        "id": "EXUYQPuwQtNm"
      }
    },
    {
      "cell_type": "code",
      "execution_count": null,
      "source": [
        "#exercise_metrics = {\r\n",
        "#    \"count\": count,\r\n",
        "#    \"false_positive_rate\": _______,\r\n",
        "#    \"recall_score\": _______\r\n",
        "#}"
      ],
      "outputs": [],
      "metadata": {
        "id": "bcf-x1oA_jP5"
      }
    },
    {
      "cell_type": "markdown",
      "source": [
        "Now, let's create our `MetricFrame` using the metrics listed above with the sensitive groups of `race` and `gender`."
      ],
      "metadata": {
        "id": "Bll-8GAWJF6p"
      }
    },
    {
      "cell_type": "code",
      "execution_count": null,
      "source": [
        "# Create a MetricFrame on your model's results\r\n",
        "metricframe_exercise = MetricFrame(\r\n",
        "    metrics=exercise_metrics,\r\n",
        "    y_true=Y_test,\r\n",
        "    y_pred=exercise_pred,\r\n",
        "    sensitive_features=A_test\r\n",
        ")"
      ],
      "outputs": [],
      "metadata": {
        "id": "zWLsCa_xQtbE"
      }
    },
    {
      "cell_type": "code",
      "execution_count": null,
      "source": [
        "#metricframe_exercise = MetricFrame(\r\n",
        "#    metrics=__________,\r\n",
        "#    y_true=Y_test,\r\n",
        "#    y_pred=__________,\r\n",
        "#    sensitive_features=_____\r\n",
        "#)"
      ],
      "outputs": [],
      "metadata": {
        "id": "jAjzjCqh_fNx"
      }
    },
    {
      "cell_type": "markdown",
      "source": [
        "3.) Finally, play around with the plotting capabilities of the `MetricFrame` in the below section.\n",
        "\n"
      ],
      "metadata": {
        "id": "QeghVCbLZOf5"
      }
    },
    {
      "cell_type": "code",
      "execution_count": null,
      "source": [
        "metricframe_exercise.by_group"
      ],
      "outputs": [],
      "metadata": {
        "colab": {
          "base_uri": "https://localhost:8080/",
          "height": 203
        },
        "id": "6dQNSB02D_ba",
        "outputId": "a19a040b-adba-4a98-a7ea-673f892375ed"
      }
    },
    {
      "cell_type": "code",
      "execution_count": null,
      "source": [
        "#metricframe_exercise._______"
      ],
      "outputs": [],
      "metadata": {
        "id": "Nd4D17ME_hB2"
      }
    },
    {
      "cell_type": "code",
      "execution_count": null,
      "source": [
        "# Plot some of the performance disparities here\r\n",
        "metricframe_exercise.by_group.plot.bar(subplots=True, layout=[1,4], figsize=(12, 4),\r\n",
        "                                       legend=False, rot=-45, position=1.5)"
      ],
      "outputs": [],
      "metadata": {
        "colab": {
          "base_uri": "https://localhost:8080/",
          "height": 451
        },
        "id": "-ylW8y2CQtjb",
        "outputId": "444e074c-b955-462b-a0fd-61e3f1778714"
      }
    },
    {
      "cell_type": "code",
      "execution_count": null,
      "source": [
        "#metricframe_exercise.by_group.____.bar(subplots=_____, layout=[1,4], figsize=(12, 4), legend=False, rot=-45, position=1.5)"
      ],
      "outputs": [],
      "metadata": {
        "id": "_xaLx6Br_hyc"
      }
    },
    {
      "cell_type": "markdown",
      "source": [
        "The charts above are based on test data, so without any uncertainty quantification (such as error bars or confidence intervals), we cannot reliably compare these data statistics. Next optional section shows how to augment MetricFrame with the report of error bars.\n",
        "\n",
        "## Adding error bars [OPTIONAL SECTION]"
      ],
      "metadata": {
        "id": "Me1ocEi2kEgw"
      }
    },
    {
      "cell_type": "markdown",
      "source": [
        "In this section, we define new custom metrics that quantify errors in our estimates of selection rate, false negative rate and balanced accuracy, and then review our metrics again."
      ],
      "metadata": {
        "id": "9l8YJ8qQdehm"
      }
    },
    {
      "cell_type": "code",
      "execution_count": null,
      "source": [
        "# All of our error bar calculations are based on normal approximation to\r\n",
        "# the binomial variables.\r\n",
        "\r\n",
        "def error_bar_normal(n_successes, n_trials, z=1.96):\r\n",
        "  \"\"\"\r\n",
        "  Computes the error bars for the parameter p of a binomial variable\r\n",
        "  using normal approximation. The default value z corresponds to the 95%\r\n",
        "  confidence interval.\r\n",
        "  \"\"\"\r\n",
        "  point_est = n_successes / n_trials\r\n",
        "  error_bar = z*np.sqrt(point_est*(1-point_est))/np.sqrt(n_trials)\r\n",
        "  return error_bar\r\n",
        "\r\n",
        "def fpr_error(Y_true, Y_pred):\r\n",
        "  \"\"\"\r\n",
        "  Compute the 95%-error bar for the false positive rate\r\n",
        "  \"\"\"\r\n",
        "  tn, fp, fn, tp = confusion_matrix(Y_true, Y_pred).ravel()\r\n",
        "  return error_bar_normal(fp, tn+fp)\r\n",
        "\r\n",
        "def fnr_error(Y_true, Y_pred):\r\n",
        "  \"\"\"\r\n",
        "  Compute the 95%-error bar for the false negative rate\r\n",
        "  \"\"\"\r\n",
        "  tn, fp, fn, tp = confusion_matrix(Y_true, Y_pred).ravel()\r\n",
        "  return error_bar_normal(fn, fn+tp)\r\n",
        "\r\n",
        "def selection_rate_error(Y_true, Y_pred):\r\n",
        "  \"\"\"\r\n",
        "  Compute the 95%-error bar for the selection rate\r\n",
        "  \"\"\"\r\n",
        "  tn, fp, fn, tp = confusion_matrix(Y_true, Y_pred).ravel()\r\n",
        "  return error_bar_normal(tp+fp, tn+fp+fn+tp)\r\n",
        "\r\n",
        "def balanced_accuracy_error(Y_true, Y_pred):\r\n",
        "  \"\"\"\r\n",
        "  Compute the 95%-error bar for the balanced accuracy\r\n",
        "  \"\"\"\r\n",
        "  fnr_err, fpr_err = fnr_error(Y_true, Y_pred), fpr_error(Y_true, Y_pred)\r\n",
        "  return np.sqrt(fnr_err**2 + fpr_err**2)/2"
      ],
      "outputs": [],
      "metadata": {
        "id": "OiP-uXr_FLtz"
      }
    },
    {
      "cell_type": "markdown",
      "source": [
        "We next create a metric frame that includes the sample sizes and error bar sizes in addition to the metrics that we have used previously."
      ],
      "metadata": {
        "id": "qHaXfBYWp6ob"
      }
    },
    {
      "cell_type": "code",
      "execution_count": null,
      "source": [
        "metrics_with_err_bars = {\r\n",
        "    \"count\": count,\r\n",
        "    \"selection_rate\": selection_rate,\r\n",
        "    \"selection_err_bar\": selection_rate_error,\r\n",
        "    \"false_negative_rate\": false_negative_rate,\r\n",
        "    \"fnr_err_bar\": fnr_error,\r\n",
        "    \"balanced_accuracy\": balanced_accuracy_score,\r\n",
        "    \"bal_acc_err_bar\": balanced_accuracy_error\r\n",
        "}\r\n",
        "\r\n",
        "# sometimes we will only want to display metrics without error bars\r\n",
        "metrics_to_display = [\r\n",
        "    \"count\",\r\n",
        "    \"selection_rate\",\r\n",
        "    \"false_negative_rate\",\r\n",
        "    \"balanced_accuracy\"\r\n",
        "]\r\n",
        "\r\n",
        "# sometimes we will only want to show the difference values of the metrics other than count\r\n",
        "differences_to_display = [\r\n",
        "    \"selection_rate\",\r\n",
        "    \"false_negative_rate\",\r\n",
        "    \"balanced_accuracy\"\r\n",
        "]"
      ],
      "outputs": [],
      "metadata": {
        "id": "OlEq6ogfyHb6"
      }
    },
    {
      "cell_type": "code",
      "execution_count": null,
      "source": [
        "metricframe_unmitigated_w_err = MetricFrame(\r\n",
        "    metrics=metrics_with_err_bars,\r\n",
        "    y_true=Y_test,\r\n",
        "    y_pred=Y_pred,\r\n",
        "    sensitive_features=A_test\r\n",
        ")"
      ],
      "outputs": [],
      "metadata": {
        "id": "55GOqFTYxbCi"
      }
    },
    {
      "cell_type": "code",
      "execution_count": null,
      "source": [
        "unmitigated_groups = metricframe_unmitigated_w_err.by_group\r\n",
        "unmitigated_groups # show both the metrics as well as the error bars"
      ],
      "outputs": [],
      "metadata": {
        "colab": {
          "base_uri": "https://localhost:8080/",
          "height": 223
        },
        "id": "MlZKPNkHxbFb",
        "outputId": "9d6cb95c-538a-42e7-f3b4-349c74258902"
      }
    },
    {
      "cell_type": "markdown",
      "source": [
        "We see that for smaller sample sizes we have larger error bars. The problem is further exacerbated for false negative rate, which is estimated only over *positive examples* and so its sample sizes is further reduced due to label imbalance.\n",
        "\n",
        "We next visualize the metrics with the corresponding error bars using a custom plotting function."
      ],
      "metadata": {
        "id": "hh5F-A5C5rSV"
      }
    },
    {
      "cell_type": "code",
      "execution_count": null,
      "source": [
        "def plot_group_metrics_with_error_bars(metricframe, metric, error_name):\r\n",
        "  \"\"\"\r\n",
        "  Plots the disaggregated `metric` for each group with an associated\r\n",
        "  error bar. Both metric and the erro bar are provided as columns in the \r\n",
        "  provided metricframe.\r\n",
        "  \"\"\"\r\n",
        "  grouped_metrics = metricframe.by_group\r\n",
        "  point_estimates = grouped_metrics[metric]\r\n",
        "  error_bars = grouped_metrics[error_name]\r\n",
        "  lower_bounds = point_estimates - error_bars\r\n",
        "  upper_bounds = point_estimates + error_bars\r\n",
        "\r\n",
        "  x_axis_names = [str(name) for name in error_bars.index.to_flat_index().tolist()]\r\n",
        "  plt.vlines(x_axis_names, lower_bounds, upper_bounds, linestyles=\"dashed\", alpha=0.45)\r\n",
        "  plt.scatter(x_axis_names, point_estimates, s=25)\r\n",
        "  plt.xticks(rotation=0)\r\n",
        "  y_start, y_end = np.round(min(lower_bounds), decimals=2), np.round(max(upper_bounds), decimals=2)\r\n",
        "  plt.yticks(np.arange(y_start, y_end, 0.05))\r\n",
        "  plt.ylabel(metric)"
      ],
      "outputs": [],
      "metadata": {
        "id": "rqFPLsATwROr"
      }
    },
    {
      "cell_type": "code",
      "execution_count": null,
      "source": [
        "plot_group_metrics_with_error_bars(metricframe_unmitigated_w_err, \"selection_rate\", \"selection_err_bar\")"
      ],
      "outputs": [],
      "metadata": {
        "colab": {
          "base_uri": "https://localhost:8080/",
          "height": 268
        },
        "id": "dsRFpuXfzrUA",
        "outputId": "0f4adb40-6c34-45a2-b8ca-b50d151c4b55"
      }
    },
    {
      "cell_type": "code",
      "execution_count": null,
      "source": [
        "plot_group_metrics_with_error_bars(metricframe_unmitigated_w_err, \"false_negative_rate\", \"fnr_err_bar\")"
      ],
      "outputs": [],
      "metadata": {
        "colab": {
          "base_uri": "https://localhost:8080/",
          "height": 268
        },
        "id": "B68Q2ZIgzrcE",
        "outputId": "368fed7e-80c6-4fca-ebef-d61cdd09e800"
      }
    },
    {
      "cell_type": "code",
      "execution_count": null,
      "source": [
        "plot_group_metrics_with_error_bars(metricframe_unmitigated_w_err, \"balanced_accuracy\", \"bal_acc_err_bar\")"
      ],
      "outputs": [],
      "metadata": {
        "colab": {
          "base_uri": "https://localhost:8080/",
          "height": 268
        },
        "id": "htoUhyirpqZt",
        "outputId": "c83ac73e-ccbf-4a53-8002-c2dc012b8e4c"
      }
    },
    {
      "cell_type": "markdown",
      "source": [
        "As we see above, even accounting for the larger uncertainty in estimating the false negative rate for *Unknown*, this group is experiencing substantially larger false negative rate than other groups and thus experiences the harm of allocation."
      ],
      "metadata": {
        "id": "SAMhqvycR7eE"
      }
    },
    {
      "cell_type": "markdown",
      "source": [
        "\n",
        "\n",
        "---\n"
      ],
      "metadata": {
        "id": "8ZqVGZkam1eH"
      }
    },
    {
      "cell_type": "markdown",
      "source": [
        "# **Mitigating fairness-related harms in ML models**"
      ],
      "metadata": {
        "id": "-dgITdRiD7Yu"
      }
    },
    {
      "cell_type": "markdown",
      "source": [
        "We have found that the logistic regression predictor leads to a large difference in false negative rates between the groups. We next look at **algorithmic mitigation strategies** of this fairness issue (and similar ones).\n",
        "\n",
        "*Note that while we currently focus on the training stage of the AI lifecycle mitigation should not be limited to this stage. In fact, we have already discussed mitigation strategies that are applicable at the task definition stage (e.g., checking for construct validity) and data collection stage (e.g., collecting more data).*\n",
        "\n",
        "Within the model training stage, mitigation may occur at different steps relative to model training:\n",
        "\n",
        "* **Preprocessing**: A mitigation algorithm is applied to transform the input data to the training algorithm; for example, some strategies seek to remove and dependence between the input features and sensitive features.\n",
        "\n",
        "* **At training time**: The model is trained by an (optimization) algorithm that seeks to satisfy fairness constraints.\n",
        "\n",
        "* **Postprocessing**: The output of a trained model is transformed to mitigate fairness issues; for example, the predicted probability of readmission is thresholded according to a group-specific threshold.\n",
        "\n",
        "We will now dive into two algorithms: a postprocessing approach and a reductions approach (which is a training-time algorithm). Both of them are in fact **meta-algorithms** in the sense that they act as wrappers around *any* standard (fairness-unaware) machine learning algorithms. This makes them quite versatile in practice.\n"
      ],
      "metadata": {
        "id": "sbUSG1jVA06G"
      }
    },
    {
      "cell_type": "markdown",
      "source": [
        "## Postprocessing with `ThresholdOptimizer`"
      ],
      "metadata": {
        "id": "rX8QycCL0mJj"
      }
    },
    {
      "cell_type": "markdown",
      "source": [
        "**Postprocessing** techniques are a class of unfairness-mitigation algorithms that take an already trained model and a dataset as an input and seek to fit a transformation function to model's outputs to satisfy some (group) fairness constraint(s). They might be the only feasible unfairness mitigation approach when developers cannot influence training of the model, due to practical reasons or due to security or privacy.\n"
      ],
      "metadata": {
        "id": "fRZfSFzcFaXP"
      }
    },
    {
      "cell_type": "markdown",
      "source": [
        "Here we use the `ThresholdOptimizer` algorithm from Fairlearn, which follows the approach of [Hardt, Price, and Srebro (2016)](https://arxiv.org/abs/1610.02413).\n",
        "\n",
        "`ThresholdOptimizer` takes in an exisiting (possibly pre-fit) machine learning model whose predictions act as a scoring function and identifies a separate thrceshold for each group in order to optimize some specified objective metric (such as **balanced accuracy**) subject to specified fairness constraints (such as **false negative rate parity**). Thus, the resulting classifier is just a suitably thresholded version of the underlying machinelearning model.\n",
        "\n",
        "The constraint **false negative rate parity** requires that all the groups have equal values of false negative rate.\n",
        "\n"
      ],
      "metadata": {
        "id": "6PgzZkK9Wbni"
      }
    },
    {
      "cell_type": "markdown",
      "source": [
        "To instatiate our `ThresholdOptimizer`, we pass in:\n",
        "\n",
        "*   An existing `estimator` that we wish to threshold. \n",
        "*   The fairness `constraints` we want to satisfy.\n",
        "*   The `objective` metric we want to maximize.\n",
        "\n"
      ],
      "metadata": {
        "id": "OFOovaN7AwDr"
      }
    },
    {
      "cell_type": "code",
      "execution_count": null,
      "source": [
        "# Now we instantite ThresholdOptimizer with the logistic regression estimator\r\n",
        "postprocess_est = ThresholdOptimizer(\r\n",
        "    estimator=unmitigated_pipeline,\r\n",
        "    constraints=\"false_negative_rate_parity\",\r\n",
        "    objective=\"balanced_accuracy_score\",\r\n",
        "    prefit=True,\r\n",
        "    predict_method='predict_proba'\r\n",
        ")"
      ],
      "outputs": [],
      "metadata": {
        "id": "8je0grKPWHhy"
      }
    },
    {
      "cell_type": "markdown",
      "source": [
        "In order to use the `ThresholdOptimizer`, we need access to the sensitive features **both during training time and once it's deployed**."
      ],
      "metadata": {
        "id": "VDD86L7eCSe0"
      }
    },
    {
      "cell_type": "code",
      "execution_count": null,
      "source": [
        "postprocess_est.fit(X_train_bal, Y_train_bal, sensitive_features=A_train_bal)"
      ],
      "outputs": [],
      "metadata": {
        "colab": {
          "base_uri": "https://localhost:8080/",
          "height": 344
        },
        "id": "VCHJBB7x1rAK",
        "outputId": "dfc6338e-2be0-4007-bde2-fd8544cc4a89"
      }
    },
    {
      "cell_type": "code",
      "execution_count": null,
      "source": [
        "# Record and evaluate the output of the trained ThresholdOptimizer on test data\r\n",
        "\r\n",
        "Y_pred_postprocess = postprocess_est.predict(X_test, sensitive_features=A_test)\r\n",
        "metricframe_postprocess = MetricFrame(\r\n",
        "    metrics=metrics_dict,\r\n",
        "    y_true=Y_test,\r\n",
        "    y_pred=Y_pred_postprocess,\r\n",
        "    sensitive_features=A_test\r\n",
        ")"
      ],
      "outputs": [],
      "metadata": {
        "id": "YscNZsYU1rCY"
      }
    },
    {
      "cell_type": "markdown",
      "source": [
        "We can now inspect how the metric values differ between the postprocessed model and the unmitigated model:"
      ],
      "metadata": {
        "id": "_izbGv6tQ1KD"
      }
    },
    {
      "cell_type": "code",
      "execution_count": null,
      "source": [
        "pd.concat([metricframe_unmitigated.by_group,\r\n",
        "           metricframe_postprocess.by_group],\r\n",
        "           keys=['Unmitigated', 'ThresholdOptimizer'],\r\n",
        "           axis=1)"
      ],
      "outputs": [],
      "metadata": {
        "colab": {
          "base_uri": "https://localhost:8080/",
          "height": 254
        },
        "id": "-9mtWyWc1rH5",
        "outputId": "982dcb16-b82f-42bc-addb-1caaf2d0aa09"
      }
    },
    {
      "cell_type": "markdown",
      "source": [
        "We next zoom in on differences between the largest and the smallest metric values:"
      ],
      "metadata": {
        "id": "mzPCUFsXPU_S"
      }
    },
    {
      "cell_type": "code",
      "execution_count": null,
      "source": [
        "pd.concat([metricframe_unmitigated.difference(),\r\n",
        "           metricframe_postprocess.difference()],\r\n",
        "          keys=['Unmitigated: difference', 'ThresholdOptimizer: difference'],\r\n",
        "          axis=1).T"
      ],
      "outputs": [],
      "metadata": {
        "colab": {
          "base_uri": "https://localhost:8080/",
          "height": 127
        },
        "id": "dsC4v8Ap1rKt",
        "outputId": "ebf489b6-07ac-45d5-ae2b-848d6488dbb4"
      }
    },
    {
      "cell_type": "markdown",
      "source": [
        "As we see, `ThresholdOptimizer` was able to substantiallydecrease the difference between the values of false negative rate."
      ],
      "metadata": {
        "id": "Hhi_RSxSRoyg"
      }
    },
    {
      "cell_type": "markdown",
      "source": [
        "Finally, we save the disagregated statistics:"
      ],
      "metadata": {
        "id": "GarQvopkVN2S"
      }
    },
    {
      "cell_type": "code",
      "execution_count": null,
      "source": [
        "metricframe_postprocess.by_group.plot.bar(subplots=True, layout=[1,3], figsize=(12, 4), legend=False, rot=-45, position=1.5)\r\n",
        "postprocess_performance = figure_to_base64str(plt)"
      ],
      "outputs": [],
      "metadata": {
        "colab": {
          "base_uri": "https://localhost:8080/",
          "height": 314
        },
        "id": "EsTehBH2SW7f",
        "outputId": "3cf05d43-1389-41a2-e2dc-7e7511833c2b"
      }
    },
    {
      "cell_type": "markdown",
      "source": [
        "Next optional section shows that `ThresholdOptimizer` more closely satisfies constraints on the training data than on the test data.\n",
        "\n",
        "### Postprocessing: Correctness check [OPTIONAL SECTION]"
      ],
      "metadata": {
        "id": "umd3slsDmk0d"
      }
    },
    {
      "cell_type": "markdown",
      "source": [
        "We can verify that `ThresholdOptimizer` achieves false negative rate parity on the training dataset, meaning that the values of the false negative rate parity with respect to all groups are close on the training data."
      ],
      "metadata": {
        "id": "Cs1kWzda8f0z"
      }
    },
    {
      "cell_type": "code",
      "execution_count": null,
      "source": [
        "# Record and evaluate the output of the ThresholdOptimizer on the training data\r\n",
        "\r\n",
        "Y_pred_postprocess_training = postprocess_est.predict(X_train_bal, sensitive_features=A_train_bal)\r\n",
        "metricframe_postprocess_training = MetricFrame(\r\n",
        "    metrics=metrics_dict,\r\n",
        "    y_true=Y_train_bal,\r\n",
        "    y_pred=Y_pred_postprocess_training,\r\n",
        "    sensitive_features=A_train_bal\r\n",
        ")\r\n",
        "metricframe_postprocess_training.by_group"
      ],
      "outputs": [],
      "metadata": {
        "colab": {
          "base_uri": "https://localhost:8080/",
          "height": 203
        },
        "id": "ttOZAVbgmplf",
        "outputId": "c6bb375e-5e32-4508-cfd8-45f775618519"
      }
    },
    {
      "cell_type": "code",
      "execution_count": null,
      "source": [
        "# Evaluate the difference between the largest and smallest value of each metric\r\n",
        "metricframe_postprocess_training.difference()"
      ],
      "outputs": [],
      "metadata": {
        "colab": {
          "base_uri": "https://localhost:8080/"
        },
        "id": "Tty0cmJomp1h",
        "outputId": "1d821a8d-3e0a-4082-8efe-740d09ceb1e0"
      }
    },
    {
      "cell_type": "markdown",
      "source": [
        "The value of `false_negative_rate_difference` on the training data is smaller than on the test data."
      ],
      "metadata": {
        "id": "Kvdn7wBhCqXw"
      }
    },
    {
      "cell_type": "markdown",
      "source": [
        "<a name=\"exercise-threshold\"></a>\n",
        "### Exercise: ThresholdOptimizer"
      ],
      "metadata": {
        "id": "z2vLNUnK_P66"
      }
    },
    {
      "cell_type": "markdown",
      "source": [
        "In this exercise, we will create a `ThresholdOptimizer` by constraining the *true positive rate* (also known as the *recall score*). For any model, the *true positive rate* + *false negative rate* = 1. \n",
        "\n",
        "By trying to achieve the *true positive rate parity*, we should produce a `ThresholdOptimizer` with the same performance as our original `ThresholdOptimizer`.\n",
        "\n"
      ],
      "metadata": {
        "id": "0YUembo02yQ8"
      }
    },
    {
      "cell_type": "markdown",
      "source": [
        "#### 1.) Create a new ThresholdOptimizer with the constraint `true_positive_rate_parity` and objective `balanced_accuracy_score`."
      ],
      "metadata": {
        "id": "ZJxE2eMuNF3_"
      }
    },
    {
      "cell_type": "code",
      "execution_count": null,
      "source": [
        "# Instatitate ThresholdOptimizer\r\n",
        "thresopt_exercise = ThresholdOptimizer(\r\n",
        "    estimator=unmitigated_pipeline,\r\n",
        "    constraints=\"true_positive_rate_parity\",\r\n",
        "    objective=\"balanced_accuracy_score\",\r\n",
        "    prefit=True,\r\n",
        "    predict_method='predict_proba'\r\n",
        ")"
      ],
      "outputs": [],
      "metadata": {
        "id": "wmF8QGQ62tpF"
      }
    },
    {
      "cell_type": "code",
      "execution_count": null,
      "source": [
        "# Fit to data and predict on test data\r\n",
        "thresopt_exercise.fit(X_train_bal, Y_train_bal, sensitive_features=A_train_bal)\r\n",
        "threshopt_pred = thresopt_exercise.predict(X_test, sensitive_features=A_test)"
      ],
      "outputs": [],
      "metadata": {
        "colab": {
          "base_uri": "https://localhost:8080/"
        },
        "id": "JIuirDkd2ttM",
        "outputId": "44873f39-a5a5-4c83-d195-db0de81113ad"
      }
    },
    {
      "cell_type": "code",
      "execution_count": null,
      "source": [
        "#thresopt_exercise = ThresholdOptimizer(\r\n",
        "#    estimator=______________,\r\n",
        "#    constraints=____________,\r\n",
        "#    objective=\"balanced_accuracy_score\",\r\n",
        "#    prefit=True,\r\n",
        "#    predict_method='predict_proba'\r\n",
        "#)"
      ],
      "outputs": [],
      "metadata": {
        "id": "zD5kQu6gqyl6"
      }
    },
    {
      "cell_type": "code",
      "execution_count": null,
      "source": [
        "#thresopt_exercise.____(X_train_bal, Y_train_bal, sensitive_features=_______)\r\n",
        "#threshopt_pred = thresopt_exercise._________(X_test, sensitive_features=_______)"
      ],
      "outputs": [],
      "metadata": {
        "id": "CxdAikCKqyuW"
      }
    },
    {
      "cell_type": "markdown",
      "source": [
        "#### 2.) Create a new `MetricFrame` object to process the results of this classifier."
      ],
      "metadata": {
        "id": "xBLD77OENFN-"
      }
    },
    {
      "cell_type": "code",
      "execution_count": null,
      "source": [
        "thresop_metricframe = MetricFrame(\r\n",
        "    metrics=metrics_dict,\r\n",
        "    y_true=Y_test,\r\n",
        "    y_pred=threshopt_pred,\r\n",
        "    sensitive_features=A_test\r\n",
        ")"
      ],
      "outputs": [],
      "metadata": {
        "id": "RmSwK3P42tzz"
      }
    },
    {
      "cell_type": "code",
      "execution_count": null,
      "source": [
        "#thresop_metricframe = MetricFrame(\r\n",
        "#    metrics=metrics_dict,\r\n",
        "#    y_true=Y_test,\r\n",
        "#    y_pred=____________,\r\n",
        "#    sensitive_features=_______\r\n",
        "#)"
      ],
      "outputs": [],
      "metadata": {
        "id": "B12UNsZErImo"
      }
    },
    {
      "cell_type": "markdown",
      "source": [
        "#### 3.) Compare the performance of the two `ThresholdOptimizers`."
      ],
      "metadata": {
        "id": "DEyEie-9NEew"
      }
    },
    {
      "cell_type": "code",
      "execution_count": null,
      "source": [
        "# Visualize the performance of the new ThresholdOptimizer\r\n",
        "thresop_metricframe.by_group"
      ],
      "outputs": [],
      "metadata": {
        "colab": {
          "base_uri": "https://localhost:8080/",
          "height": 203
        },
        "id": "2P_w3ltB2uAO",
        "outputId": "015bf2e9-cf56-49da-dffc-9fa95abcb587"
      }
    },
    {
      "cell_type": "code",
      "execution_count": null,
      "source": [
        "# Compare the performance to the original ThresholdOptimizer\r\n",
        "metricframe_postprocess.by_group"
      ],
      "outputs": [],
      "metadata": {
        "colab": {
          "base_uri": "https://localhost:8080/",
          "height": 203
        },
        "id": "R2phiinPLXwQ",
        "outputId": "6c1a1037-b535-4cdd-a7d0-b1f6b410e072"
      }
    },
    {
      "cell_type": "code",
      "execution_count": null,
      "source": [
        "#thresop_metricframe._______"
      ],
      "outputs": [],
      "metadata": {
        "id": "uz9mS66YrWka"
      }
    },
    {
      "cell_type": "code",
      "execution_count": null,
      "source": [
        "#metricframe_postprocess.______"
      ],
      "outputs": [],
      "metadata": {
        "id": "oByEABVGrXWo"
      }
    },
    {
      "cell_type": "markdown",
      "source": [
        "Similar to many unfairness mitigation approaches, `ThresholdOptimizer` produces randomized classifiers. Next optional section presents a heuristic strategy for converting a randomized `ThresholdOptimizer` into a deterministic one. In our scenario, this heursitic is quite effective and the resulting deterministic classifier has similar performance as the original `ThresholdOptimizer`.\n",
        "\n",
        "### Deployment considerations: Randomized predictions [OPTIONAL SECTION]"
      ],
      "metadata": {
        "id": "wAUI3LdQbBCs"
      }
    },
    {
      "cell_type": "markdown",
      "source": [
        "When we were describing `ThresholdOptimizer` we said that it picks a separate threshold for each group. However, that is not quite correct. In fact,`ThresholdOptimizer`, for each group, picks two thresholds that are close to each other (say `threshold0` and `threshold1`) and then, at deployment time, randomizes between the two: choosing `threshold0` with some probability `p0` and `threshold1` with the remaining probability `p1=1-p0` (the specific probabilities are determined during training; for certain kinds of constraints, three thresholds are considered.)\n",
        "\n",
        "This means that the predictions are randomized. To achieve reproducible randomization, it is possible to provide an argument `random_state` to the `predict` method. However, in some settings, even such reproducible randomization is not acceptable and can be in fact viewed as a fairness issue, because of its arbitrariness.\n",
        "\n",
        "One derandomization heuristic is to replace the two thresholds by their weighted average, i.e., `threshold = p0*threshold0 + p1*threshold1`. That corresponds to the assumption that the values of the scores between the two thresholds are approximately uniformly distributed. Using this heuristic, we derandomize `ThresholdOptimizer`.\n",
        "\n"
      ],
      "metadata": {
        "id": "wlfeHwVC6dna"
      }
    },
    {
      "cell_type": "markdown",
      "source": [
        "The randomized model of the `ThresholdOptimizer` is stored as the field\n",
        "`interpolated_thresholder_` in the fitted ThresholdOptimizer, which is itself a\n",
        "valid estimator of type `InterpolatedThresholder`:"
      ],
      "metadata": {
        "id": "nia26AD2BBKf"
      }
    },
    {
      "cell_type": "code",
      "execution_count": null,
      "source": [
        "interpolated = postprocess_est.interpolated_thresholder_\n",
        "interpolated"
      ],
      "outputs": [],
      "metadata": {
        "colab": {
          "base_uri": "https://localhost:8080/",
          "height": 112
        },
        "id": "5w-c22tsZsvj",
        "outputId": "48c9f6ef-9457-41d2-afe4-78965966e470"
      }
    },
    {
      "cell_type": "markdown",
      "source": [
        "The `interpolation_dict` is a dictionary which assign to each sensitive feature value two thresholds and two respective probabilities. Using our derandomization strategy, we can create a dictionary that represents a deterministic rule:\n"
      ],
      "metadata": {
        "id": "8PkqiznTuL0l"
      }
    },
    {
      "cell_type": "code",
      "execution_count": null,
      "source": [
        "def create_deterministic(interpolate_dict):\n",
        "  \"\"\"\n",
        "  Creates a deterministic interpolation_dictionary from a randomized\n",
        "  interpolation_dictionary. The determinstic thresholds are created by taking\n",
        "  the weighted combinations of the two randomized thresholds for each sensitive\n",
        "  group.\n",
        "  \"\"\"\n",
        "  deterministic_dict = {}\n",
        "  for (race, operations) in interpolate_dict.items():\n",
        "    op0, op1 = operations[\"operation0\"]._threshold, operations[\"operation1\"]._threshold\n",
        "    p0, p1 = operations[\"p0\"], operations[\"p1\"]\n",
        "    deterministic_dict[race] = Bunch(\n",
        "      p0=0.0,\n",
        "      p1=1.0,\n",
        "      operation0=ThresholdOperation(operator=\">\",threshold=(p0*op0 + p1*op1)),\n",
        "      operation1=ThresholdOperation(operator=\">\",threshold=(p0*op0 + p1*op1))\n",
        "    )\n",
        "  return deterministic_dict"
      ],
      "outputs": [],
      "metadata": {
        "id": "F3a1Mw8koLUa"
      }
    },
    {
      "cell_type": "code",
      "execution_count": null,
      "source": [
        "deterministic_dict = create_deterministic(interpolated.interpolation_dict)\n",
        "deterministic_dict"
      ],
      "outputs": [],
      "metadata": {
        "colab": {
          "base_uri": "https://localhost:8080/"
        },
        "id": "lbynyyy2CKxv",
        "outputId": "09ac99a7-5338-4e31-9e02-eb4acbb9d5ec"
      }
    },
    {
      "cell_type": "markdown",
      "source": [
        "Now, we can create an `InterpolatedThresholder` that uses the same pre-fit estimator, but with derandomized thresholds."
      ],
      "metadata": {
        "id": "euqycBW_3EB2"
      }
    },
    {
      "cell_type": "code",
      "execution_count": null,
      "source": [
        "deterministic_thresholder = InterpolatedThresholder(estimator=interpolated.estimator,\n",
        "                                                 interpolation_dict=deterministic_dict,\n",
        "                                                 prefit=True,\n",
        "                                                 predict_method='predict_proba')"
      ],
      "outputs": [],
      "metadata": {
        "id": "R3qKiaMiPOaG"
      }
    },
    {
      "cell_type": "code",
      "execution_count": null,
      "source": [
        "deterministic_thresholder.fit(X_train_bal, Y_train_bal, sensitive_features=A_train_bal)"
      ],
      "outputs": [],
      "metadata": {
        "colab": {
          "base_uri": "https://localhost:8080/",
          "height": 273
        },
        "id": "XLNNadraaFMT",
        "outputId": "b3a7edc0-dfe1-4746-f208-0526ad4019a9"
      }
    },
    {
      "cell_type": "code",
      "execution_count": null,
      "source": [
        "y_pred_postprocess_deterministic = deterministic_thresholder.predict(X_test, sensitive_features=A_test)"
      ],
      "outputs": [],
      "metadata": {
        "id": "TPRwWuuWY2Yy"
      }
    },
    {
      "cell_type": "code",
      "execution_count": null,
      "source": [
        "mf_deterministic = MetricFrame(\n",
        "    metrics=metrics_dict,\n",
        "    y_true=Y_test,\n",
        "    y_pred=y_pred_postprocess_deterministic,\n",
        "    sensitive_features=A_test\n",
        ")"
      ],
      "outputs": [],
      "metadata": {
        "id": "q3834uLWeXWO"
      }
    },
    {
      "cell_type": "markdown",
      "source": [
        "Now compare the two models in terms of their disaggregated metrics:"
      ],
      "metadata": {
        "id": "2tnGhMYzDloo"
      }
    },
    {
      "cell_type": "code",
      "execution_count": null,
      "source": [
        "mf_deterministic.by_group"
      ],
      "outputs": [],
      "metadata": {
        "colab": {
          "base_uri": "https://localhost:8080/",
          "height": 203
        },
        "id": "NIkoljGTeXZ0",
        "outputId": "353905d4-3954-421a-9bf1-adbd6a8febd1"
      }
    },
    {
      "cell_type": "code",
      "execution_count": null,
      "source": [
        "metricframe_postprocess.by_group"
      ],
      "outputs": [],
      "metadata": {
        "colab": {
          "base_uri": "https://localhost:8080/",
          "height": 203
        },
        "id": "mVimPa2nlFpv",
        "outputId": "7c197ff9-4eed-4e1d-d00d-6b16ddd34bb6"
      }
    },
    {
      "cell_type": "markdown",
      "source": [
        "The differences are generally small except for the *Unknown* group, whose false negative rate goes down and balanced accuracy goes up."
      ],
      "metadata": {
        "id": "JOi4dwLKECHS"
      }
    },
    {
      "cell_type": "markdown",
      "source": [
        "## Reductions approach with `ExponentiatedGradient`"
      ],
      "metadata": {
        "id": "NU_rncBQ0lab"
      }
    },
    {
      "cell_type": "markdown",
      "source": [
        "With the `ThresholdOptimizer`, we took a fairness-unaware model and transformed the model's decision boundary to satisfy our fairness constraints. One limitation of `ThresholdOptimizer` is that it needs access to the sensitive features at deployment time.\n",
        "\n",
        "In this section, we will show how to use the _reductions_ approach of [Agarwal et. al (2018)](https://arxiv.org/abs/1803.02453) to obtain a model that satisfies the fairness constraints, but does not need access to sensitive features at deployment time.\n",
        "\n",
        "Terminology \"reductions\" refers to another kind of a wrapper approach, which instead of wrapping an already trained model, wraps any standard classification or regression algorithm, such as \n",
        "`LogisticRegression`. In other words, an input to a reduction algorithm is an object that supports training on any provided (weighted) dataset. In addition, a reduction algorithm receives a data set that includes sensitive features. The goal, like with post-processing, is to optimize a performance metric (such as classification accuracy) subject to fairness constraints (such as an upper bound on differences between false negative rates).\n",
        "\n",
        "The main reduction algorithm algorithm in Fairlearn is `ExponentiatedGradient`. It creates a sequence of reweighted datasets and retrains the wrapped model on each of them. The \n",
        "retraining process is guaranteed to find a model that satisfies the fairness constraints while optimizing the performance metric.\n",
        "\n",
        "The model returned by `ExponentiatedGradient` consists of several inner models, returned by the wrapped estimator. At deployment time, `ExponentiatedGradient` randomizes among these models according to a specific probability weights."
      ],
      "metadata": {
        "id": "bpyBnqNLZ-w_"
      }
    },
    {
      "cell_type": "markdown",
      "source": [
        "To instantiate an `ExponentiatedGradient` model, we pass in two parameters:\n",
        "\n",
        "*   A base `estimator` (an object that supports training)\n",
        "*   Fairness `constraints` (an object of type `Moment`).\n",
        "\n",
        "The constraints supported by `ExponentiatedGradient` are more general than those supported by `ThresholdOptimizer`. For example, rather than requiring that false negative rates be equal, it is possible to specify the maxium allowed difference or ratio between the largest and the smallest value.\n"
      ],
      "metadata": {
        "id": "ZvT_qeduHCn8"
      }
    },
    {
      "cell_type": "code",
      "execution_count": null,
      "source": [
        "expgrad_est = ExponentiatedGradient(\n",
        "    estimator=LogisticRegression(max_iter=1000, random_state=random_seed),\n",
        "    constraints=TruePositiveRateParity(difference_bound=0.02)\n",
        ")"
      ],
      "outputs": [],
      "metadata": {
        "id": "ToZdrYen0tJZ"
      }
    },
    {
      "cell_type": "markdown",
      "source": [
        "The constraints above are expressed for the true positive parity, they require that the difference between the largest and the smallest true positive rate (TPR) across all groups be at most 0.02. Since false negative rate (FNR) is equal to 1-TPR, this is equivalent to requiring that the difference between the largest and smallest FNR be at most 0.02."
      ],
      "metadata": {
        "id": "bLFk3SCxrskU"
      }
    },
    {
      "cell_type": "code",
      "execution_count": null,
      "source": [
        "# Fit the exponentiated gradient model\n",
        "expgrad_est.fit(X_train_bal, Y_train_bal, sensitive_features=A_train_bal)"
      ],
      "outputs": [],
      "metadata": {
        "colab": {
          "base_uri": "https://localhost:8080/",
          "height": 81
        },
        "id": "UFSF5Wn-3M-H",
        "outputId": "43f639cf-58ef-4425-b772-3daec9d9ff3d"
      }
    },
    {
      "cell_type": "markdown",
      "source": [
        "Similarly to `ThresholdOptimizer` the predictions of `ExponentiatedGradient` models are randomized. If we want to assure reproducible results, we can pass  `random_state` to the `predict` function. "
      ],
      "metadata": {
        "id": "VsCeOlKFDQZZ"
      }
    },
    {
      "cell_type": "code",
      "execution_count": null,
      "source": [
        "# Record and evaluate predictions on test data\n",
        "\n",
        "Y_pred_reductions = expgrad_est.predict(X_test, random_state=random_seed)\n",
        "metricframe_reductions = MetricFrame(\n",
        "    metrics=metrics_dict,\n",
        "    y_true=Y_test,\n",
        "    y_pred=Y_pred_reductions,\n",
        "    sensitive_features=A_test\n",
        ")\n",
        "metricframe_reductions.by_group"
      ],
      "outputs": [],
      "metadata": {
        "colab": {
          "base_uri": "https://localhost:8080/",
          "height": 203
        },
        "id": "YYz7GAqf4cbp",
        "outputId": "72957bdb-41c5-41c6-b9c5-7f0ba8fdf610"
      }
    },
    {
      "cell_type": "code",
      "execution_count": null,
      "source": [
        "# Evaluate the difference between the largest and smallest value of each metric\n",
        "metricframe_reductions.difference()"
      ],
      "outputs": [],
      "metadata": {
        "colab": {
          "base_uri": "https://localhost:8080/"
        },
        "id": "idYvm9lq4mh3",
        "outputId": "0848b976-8651-45ae-ddb3-b906b9417ac5"
      }
    },
    {
      "cell_type": "markdown",
      "source": [
        "While there is a decrease in the false negative rate difference from the unmitigated model, this decrease is not as substantial as with `ThresholdOptimizer`. Note, however, that `ThresholdOptimizer` was able to use the sensitive feature (i.e., race) at deployment time."
      ],
      "metadata": {
        "id": "qpxYOozouVx9"
      }
    },
    {
      "cell_type": "markdown",
      "source": [
        "### Explore individual predictors"
      ],
      "metadata": {
        "id": "IzTeHhWG4nJJ"
      }
    },
    {
      "cell_type": "markdown",
      "source": [
        "During the training process, the `ExponentiatedGradient` algorithm iteratively trains multiple inner models on a reweighted training dataset. The algorithm stores each of these predictors and then randomizes among them at deployment time.\n",
        "\n",
        "In many applications, the randomization is undesirable, and also using multiple inner models can pose issues for interpretability. However, the inner models that `ExponentiatedGradient` relies on span a variety of fairness-accuracy trade-offs, and they could be considered for stand-alone deployment: addressing the randomization and interpretability issues, while possibly offering additional flexibility thanks to a variety of trade-offs. \n",
        "\n",
        "In this section explore the performance of the individual predictors learned by the `ExponentiatedGradient` algorithm. First, note that since the base estimator was `LogisticRegression` all these predictors are different logistic regression models:"
      ],
      "metadata": {
        "id": "o7qCmHeYKWGp"
      }
    },
    {
      "cell_type": "code",
      "execution_count": null,
      "source": [
        "predictors = expgrad_est.predictors_\n",
        "predictors"
      ],
      "outputs": [],
      "metadata": {
        "colab": {
          "base_uri": "https://localhost:8080/"
        },
        "id": "II_YtUZg3Ue4",
        "outputId": "76948908-4240-4d6b-d1db-38cbeda7d5be"
      }
    },
    {
      "cell_type": "code",
      "execution_count": null,
      "source": [
        "# Collect predictions by all predictors and calculate balanced error\n",
        "# as well as the false negative difference for all of them\n",
        "\n",
        "sweep_preds = [clf.predict(X_test) for clf in predictors]\n",
        "balanced_error_sweep = [1-balanced_accuracy_score(Y_test, Y_sweep) for Y_sweep in sweep_preds]\n",
        "fnr_diff_sweep = [false_negative_rate_difference(Y_test, Y_sweep, sensitive_features=A_test) for Y_sweep in sweep_preds]"
      ],
      "outputs": [],
      "metadata": {
        "id": "K3Bh2IVm4Ynj"
      }
    },
    {
      "cell_type": "code",
      "execution_count": null,
      "source": [
        "# Show the balanced error / fnr difference values of all predictors on a raster plot  \n",
        "\n",
        "plt.scatter(balanced_error_sweep, fnr_diff_sweep, label=\"ExponentiatedGradient - Iterations\")\n",
        "for i in range(len(predictors)):\n",
        "  plt.annotate(str(i), xy=(balanced_error_sweep[i]+0.001, fnr_diff_sweep[i]+0.001))\n",
        "\n",
        "# Also include in the plot the combined ExponentiatedGradient model\n",
        "# as well as the three previously fitted models\n",
        "\n",
        "plt.scatter(1-balanced_accuracy_score(Y_test, Y_pred_reductions),\n",
        "            false_negative_rate_difference(Y_test, Y_pred_reductions, sensitive_features=A_test),\n",
        "            label=\"ExponentiatedGradient - Combined model\")\n",
        "plt.scatter(1-balanced_accuracy_score(Y_test, Y_pred),\n",
        "            false_negative_rate_difference(Y_test, Y_pred, sensitive_features=A_test),\n",
        "            label=\"Unmitigated\")\n",
        "plt.scatter(1-balanced_accuracy_score(Y_test, Y_pred_postprocess),\n",
        "            false_negative_rate_difference(Y_test, Y_pred_postprocess, sensitive_features=A_test),\n",
        "            label=\"ThresholdOptimizer\")\n",
        "plt.scatter(1-balanced_accuracy_score(Y_test, y_pred_postprocess_deterministic),\n",
        "            false_negative_rate_difference(Y_test, y_pred_postprocess_deterministic, sensitive_features=A_test),\n",
        "            label=\"ThresholdOptimizer (DET)\")\n",
        "\n",
        "plt.xlabel(\"Balanced Error Rate\")\n",
        "plt.ylabel(\"False Negative Rate Difference\")\n",
        "plt.legend(bbox_to_anchor=(1.9,1))\n",
        "plt.show()"
      ],
      "outputs": [],
      "metadata": {
        "colab": {
          "base_uri": "https://localhost:8080/",
          "height": 260
        },
        "id": "r9TKGsNY8Myu",
        "outputId": "06146e22-ea39-4d70-9488-0dd9b03eddca"
      }
    },
    {
      "cell_type": "markdown",
      "source": [
        "<a name=\"exercise-reductions\"></a>\n",
        "### Exercise: Train an `ExponentiatedGradient` model"
      ],
      "metadata": {
        "id": "1MozjJKkZqz_"
      }
    },
    {
      "cell_type": "markdown",
      "source": [
        "In this section, we will explore how changing the base model for the `ExponentiatedGradient` affects the overall performance of the classifier. \n",
        "\n",
        "We will instatiate a new `ExponentiatedGradient` classifier with a base `HistGradientBoostingClassifer` estimator. We will use the same `difference_bound` as above."
      ],
      "metadata": {
        "id": "lLeGnB4juJsM"
      }
    },
    {
      "cell_type": "markdown",
      "source": [
        "1.) First, let's create our new `ExponentiatedGradient` instance in the cells below and fit it to the training data."
      ],
      "metadata": {
        "id": "ghjfKhtB3Kl9"
      }
    },
    {
      "cell_type": "code",
      "execution_count": null,
      "source": [
        "# Create ExponentiatedGradient instance here\n",
        "expgrad_exercise = ExponentiatedGradient(\n",
        "    estimator=HistGradientBoostingClassifier(),\n",
        "    constraints=TruePositiveRateParity(difference_bound=0.02)\n",
        ")"
      ],
      "outputs": [],
      "metadata": {
        "id": "F5lvfDtGZp6O"
      }
    },
    {
      "cell_type": "code",
      "execution_count": null,
      "source": [
        "# Fit the new instance to the balanced training dataset\n",
        "expgrad_exercise.fit(X_train_bal, Y_train_bal, sensitive_features=A_train_bal)"
      ],
      "outputs": [],
      "metadata": {
        "colab": {
          "base_uri": "https://localhost:8080/",
          "height": 81
        },
        "id": "TYyadS7DZqFk",
        "outputId": "991d214f-5922-4c4a-ba98-32460a5d3bdf"
      }
    },
    {
      "cell_type": "code",
      "execution_count": null,
      "source": [
        "#expgrad_exercise = ExponentiatedGradient(\n",
        "#    estimator=_______,\n",
        "#    constraints=TruePositiveRateParity(difference_bound=____)\n",
        "#)"
      ],
      "outputs": [],
      "metadata": {
        "id": "CNjDh4JUAc6i"
      }
    },
    {
      "cell_type": "code",
      "execution_count": null,
      "source": [
        "#expgrad_exercise.fit(________, _________, sensitive_features=________)"
      ],
      "outputs": [],
      "metadata": {
        "id": "MFIAEkEBAc9P"
      }
    },
    {
      "cell_type": "markdown",
      "source": [
        "2.) Now, let's compute the performance of the `ExponentiatedGradient` model and compare it with the performance of `ExponentiatedGradient` model with logistic regression as base estimator"
      ],
      "metadata": {
        "id": "8H_UDlAs3M-D"
      }
    },
    {
      "cell_type": "code",
      "execution_count": null,
      "source": [
        "# Save the predictions and report the disagregated metrics\n",
        "# of the exponantiated gradient model\n",
        "Y_expgrad_exercise = expgrad_exercise.predict(X_test)\n",
        "mf_expgrad_exercise = MetricFrame(\n",
        "    metrics=metrics_dict,\n",
        "    y_true=Y_test,\n",
        "    y_pred=Y_expgrad_exercise,\n",
        "    sensitive_features=A_test\n",
        ")\n",
        "mf_expgrad_exercise.by_group"
      ],
      "outputs": [],
      "metadata": {
        "colab": {
          "base_uri": "https://localhost:8080/",
          "height": 203
        },
        "id": "CEUVENjeZqJF",
        "outputId": "eddfbe7f-71b7-4da8-8492-4bc2798e11f0"
      }
    },
    {
      "cell_type": "code",
      "execution_count": null,
      "source": [
        "# Compare with the disaggregated metric values of the\n",
        "# exponentiated gradient model based on logistic regression\n",
        "metricframe_reductions.by_group"
      ],
      "outputs": [],
      "metadata": {
        "colab": {
          "base_uri": "https://localhost:8080/",
          "height": 203
        },
        "id": "Q1nPfHpWRwWZ",
        "outputId": "ea0e57d9-ed9e-4d03-fd5b-d57329fe1d1a"
      }
    },
    {
      "cell_type": "code",
      "execution_count": null,
      "source": [
        "#Y_expgrad_exercise = expgrad_exercise.predict(X_test)\n",
        "#mf_expgrad_exercise = MetricFrame(\n",
        "#    metrics=________,\n",
        "#    y_true=Y_test,\n",
        "#    y_pred=_______,\n",
        "#    sensitive_features=________\n",
        "#)\n",
        "#mf_expgrad_exercise.______"
      ],
      "outputs": [],
      "metadata": {
        "id": "_Qkfth4ZZBQV"
      }
    },
    {
      "cell_type": "markdown",
      "source": [
        "3.) Next, calculate the balanced error rate and false negative rate difference of each of the inner models learned by this new `ExponentiatedGradient` classifier."
      ],
      "metadata": {
        "id": "Boo771yFUyJ7"
      }
    },
    {
      "cell_type": "code",
      "execution_count": null,
      "source": [
        "# Save the inner predictors of the new model\n",
        "predictors_exercise = expgrad_exercise.predictors_"
      ],
      "outputs": [],
      "metadata": {
        "id": "jws7w2z6RWUM"
      }
    },
    {
      "cell_type": "code",
      "execution_count": null,
      "source": [
        "# Compute the balanced error rate and false negative rate difference for each of the predictors on the test data.\n",
        "balanced_error_exercise = [(1 - balanced_accuracy_score(Y_test, pred.predict(X_test))) for pred in predictors_exercise]\n",
        "false_neg_exercise = [(false_negative_rate_difference(Y_test, pred.predict(X_test), sensitive_features=A_test)) for pred in predictors_exercise]"
      ],
      "outputs": [],
      "metadata": {
        "id": "EAtkvVOEZqMb"
      }
    },
    {
      "cell_type": "code",
      "execution_count": null,
      "source": [
        "#balanced_error_exercise = [(1 - ______(Y_test, pred.predict(X_test))) for pred in predictors_exercise]\n",
        "#false_neg_exercise = [(______(Y_test, pred.predict(X_test), sensitive_features=_____)) for pred in predictors_exercise]"
      ],
      "outputs": [],
      "metadata": {
        "id": "aVTqrrSRAtGc"
      }
    },
    {
      "cell_type": "markdown",
      "source": [
        "4.) Finally, let's plot the performances of these individual inner models. In the below cells, plot the individual inner predictors against the performance of their corresponding exponentiated gradient model as well as the unmitigated logistic regression model, and the `ThresholdOptimizer`."
      ],
      "metadata": {
        "id": "Aos3gdHjDQEi"
      }
    },
    {
      "cell_type": "code",
      "execution_count": null,
      "source": [
        "# Plot the individual predictors against the Unmitigated Model and the ThresholdOptimizer\n",
        "plt.scatter(balanced_error_exercise, false_neg_exercise,\n",
        "            label=\"ExponentiatedGradient - Iterations - Exercise\")\n",
        "for i in range(len(predictors_exercise)):\n",
        "  plt.annotate(str(i), xy=(balanced_error_exercise[i]+0.001, false_neg_exercise[i]+0.001))\n",
        "\n",
        "plt.scatter(1-balanced_accuracy_score(Y_test, Y_expgrad_exercise),\n",
        "            false_negative_rate_difference(Y_test, Y_expgrad_exercise, sensitive_features=A_test),\n",
        "            label=\"ExponentiatedGradient - Combined - Exercise\")\n",
        "plt.scatter(1-balanced_accuracy_score(Y_test, Y_pred),\n",
        "            false_negative_rate_difference(Y_test, Y_pred, sensitive_features=A_test),\n",
        "            label=\"Unmitigated\")\n",
        "plt.scatter(1-balanced_accuracy_score(Y_test, Y_pred_postprocess),\n",
        "            false_negative_rate_difference(Y_test, Y_pred_postprocess, sensitive_features=A_test),\n",
        "            label=\"ThresholdOptimizer\")\n",
        "\n",
        "plt.xlabel(\"Balanced Error Rate\")\n",
        "plt.ylabel(\"False Negative Rate Difference\")\n",
        "plt.legend(bbox_to_anchor=(1.9,1))\n",
        "plt.show()"
      ],
      "outputs": [],
      "metadata": {
        "colab": {
          "base_uri": "https://localhost:8080/",
          "height": 260
        },
        "id": "IxTjb8CeZqPI",
        "outputId": "8e06051c-4629-42f0-93f6-51931da2615b"
      }
    },
    {
      "cell_type": "markdown",
      "source": [
        "## Comparing performance of different techniques"
      ],
      "metadata": {
        "id": "iyknfgrsW1gi"
      }
    },
    {
      "cell_type": "markdown",
      "source": [
        "Now we have covered two different class of techniques for mitigating the fairness-related harms we found in our fairness-unaware model. In this section, we will compare the performance of the models we trained above across our key metrics."
      ],
      "metadata": {
        "id": "Vee-7c2Tw33O"
      }
    },
    {
      "cell_type": "markdown",
      "source": [
        "#### Model performance - by group"
      ],
      "metadata": {
        "id": "XEXnEeLl7mgc"
      }
    },
    {
      "cell_type": "code",
      "execution_count": null,
      "source": [
        "def plot_technique_comparison(mf_dict, metric):\n",
        "  \"\"\"\n",
        "  Plots a specified metric for a given dictionary of MetricFrames.\n",
        "  \"\"\"\n",
        "  mf_dict = {k:v.by_group[metric] for (k,v) in mf_dict.items()}\n",
        "  comparison_df = pd.DataFrame.from_dict(mf_dict)\n",
        "  comparison_df.plot.bar(figsize=(12, 6), legend=False)\n",
        "  plt.title(metric)\n",
        "  plt.xticks(rotation=0, ha='center');\n",
        "  plt.legend(bbox_to_anchor=(1.01,1), loc='upper left')"
      ],
      "outputs": [],
      "metadata": {
        "id": "SNyCZxHJuXZV"
      }
    },
    {
      "cell_type": "code",
      "execution_count": null,
      "source": [
        "test_dict = {\n",
        "    \"Reductions\": metricframe_reductions,\n",
        "    \"Unmitigated\": metricframe_unmitigated,\n",
        "    \"Postprocessing\": metricframe_postprocess,\n",
        "    \"Postprocessing (DET)\": mf_deterministic\n",
        "}"
      ],
      "outputs": [],
      "metadata": {
        "id": "9dNb-kI3uHzM"
      }
    },
    {
      "cell_type": "code",
      "execution_count": null,
      "source": [
        "plot_technique_comparison(test_dict, \"false_negative_rate\")"
      ],
      "outputs": [],
      "metadata": {
        "colab": {
          "base_uri": "https://localhost:8080/",
          "height": 297
        },
        "id": "SweXBa-vEWFM",
        "outputId": "a230ed5d-2665-477d-adba-287c76020032"
      }
    },
    {
      "cell_type": "code",
      "execution_count": null,
      "source": [
        "plot_technique_comparison(test_dict, \"balanced_accuracy\")"
      ],
      "outputs": [],
      "metadata": {
        "colab": {
          "base_uri": "https://localhost:8080/",
          "height": 297
        },
        "id": "FJOwW9db3wKe",
        "outputId": "a34b7c03-6bfc-4843-c67e-bc5997ebf86c"
      }
    },
    {
      "cell_type": "code",
      "execution_count": null,
      "source": [
        "plot_technique_comparison(test_dict, \"selection_rate\")"
      ],
      "outputs": [],
      "metadata": {
        "colab": {
          "base_uri": "https://localhost:8080/",
          "height": 430
        },
        "id": "dACpOpm67K-m",
        "outputId": "65a6de47-9ca4-49d8-e97a-16ef1db40c02"
      }
    },
    {
      "cell_type": "markdown",
      "source": [
        "\n",
        "\n",
        "#### Model performance - overall"
      ],
      "metadata": {
        "id": "OYkgAggpW11N"
      }
    },
    {
      "cell_type": "code",
      "execution_count": null,
      "source": [
        "overall_df = pd.DataFrame.from_dict({\n",
        "    \"Unmitigated\": metricframe_unmitigated.overall,\n",
        "    \"Postprocessing\": metricframe_postprocess.overall,\n",
        "    \"Postprocessing (DET)\": mf_deterministic.overall,\n",
        "    \"Reductions\": metricframe_reductions.overall\n",
        "})"
      ],
      "outputs": [],
      "metadata": {
        "id": "w3Rwe98m6Pv2"
      }
    },
    {
      "cell_type": "code",
      "execution_count": null,
      "source": [
        "overall_df.T"
      ],
      "outputs": [],
      "metadata": {
        "colab": {
          "base_uri": "https://localhost:8080/",
          "height": 172
        },
        "id": "44Q-lYTa6PzX",
        "outputId": "376ce1db-ead9-4984-83c6-7e59e815a1b2"
      }
    },
    {
      "cell_type": "code",
      "execution_count": null,
      "source": [
        "overall_df.transpose().plot.bar(subplots=True, layout= [1,3], figsize=(12, 5), legend=False, rot=-45, position=1.5);"
      ],
      "outputs": [],
      "metadata": {
        "colab": {
          "base_uri": "https://localhost:8080/",
          "height": 359
        },
        "id": "yUaAejwa6P3F",
        "outputId": "c6d84d35-fdde-47be-af88-69881afaa163"
      }
    },
    {
      "cell_type": "code",
      "execution_count": null,
      "source": [
        "difference_df = pd.DataFrame.from_dict({\n",
        "    \"Unmitigated\": metricframe_unmitigated.difference(),\n",
        "    \"Postprocessing\": metricframe_postprocess.difference(),\n",
        "    \"Postprocessing (DET)\": mf_deterministic.difference(),\n",
        "    \"Reductions\": metricframe_reductions.difference()\n",
        "}\n",
        ")"
      ],
      "outputs": [],
      "metadata": {
        "id": "pIGS8f2M2Afu"
      }
    },
    {
      "cell_type": "code",
      "execution_count": null,
      "source": [
        "difference_df.T"
      ],
      "outputs": [],
      "metadata": {
        "colab": {
          "base_uri": "https://localhost:8080/",
          "height": 172
        },
        "id": "3pBkP7QCDVs6",
        "outputId": "8bec1174-4a94-4cf6-8cab-634e179c0ea7"
      }
    },
    {
      "cell_type": "code",
      "execution_count": null,
      "source": [
        "difference_df.T.plot.bar(subplots=True, layout= [1,3], figsize=(12, 5), legend=False, rot=-45, position=1.5);"
      ],
      "outputs": [],
      "metadata": {
        "colab": {
          "base_uri": "https://localhost:8080/",
          "height": 356
        },
        "id": "_qXEkByRDkK0",
        "outputId": "36ac6599-3113-4862-b5a0-7fe90bc71a5b"
      }
    },
    {
      "cell_type": "markdown",
      "source": [
        "### Randomized predictions"
      ],
      "metadata": {
        "id": "7S6CIoJ-W1jH"
      }
    },
    {
      "cell_type": "markdown",
      "source": [
        "Both the `ExponentiatedGradient` and the `ThresholdOptimizer` yield randomized predictions (may return different result given the same instance). Due to legal regulations or other concerns, a practitioner may not be able to deploy a randomized model. To address these restrictions:\n",
        "\n",
        "*   We created a deterministic predictor based on the randomized thresholds learned by the `ThresholdOptimizer`. This deteministic predictor achieved similar performance as the `ThresholdOptimizer`.\n",
        "*   For the `ExponentiatedGradient` model, we can deploy one of the deterministic inner models rather than the overall `ExponentiatedGradient` model.\n",
        "\n"
      ],
      "metadata": {
        "id": "MzdFLJ9BA15F"
      }
    },
    {
      "cell_type": "markdown",
      "source": [
        "### Access to sensitive features\n",
        "\n"
      ],
      "metadata": {
        "id": "P9dvkQvKW1lv"
      }
    },
    {
      "cell_type": "markdown",
      "source": [
        "\n",
        "\n",
        "*   The `ThresholdOptimizer` model requires access to the sensitive features during BOTH training time and once deployed. If you do not have access to the sensitive features once the model is deployed, you will not be able to use the `ThresholdOptimizer`.\n",
        "*   The `ExponentiatedGradient` model requires access to the sensitive features ONLY during training time. \n",
        "\n",
        "\n"
      ],
      "metadata": {
        "id": "L56tawsAW14B"
      }
    },
    {
      "cell_type": "markdown",
      "source": [
        "# Model cards for model reporting"
      ],
      "metadata": {
        "id": "fQOR2R3XVa-U"
      }
    },
    {
      "cell_type": "markdown",
      "source": [
        "_Note: The Python code in this section works in Google Colab, but it does not work on all local environments that we tested._"
      ],
      "metadata": {
        "id": "MzFzSHrQBAgi"
      }
    },
    {
      "cell_type": "markdown",
      "source": [
        "[Mitchell et al. (2019)](https://arxiv.org/abs/1810.03993) proposed the *model cards* framework for documenting and reporting model training details and deployment considerations. A _model card_ documents, for example, training and evaluation dataset summaries, ethical considerations, and quantitative performance results.\n",
        "\n"
      ],
      "metadata": {
        "id": "2RAXJDoyVbBT"
      }
    },
    {
      "cell_type": "markdown",
      "source": [
        "### Fill out the model card [OPTIONAL SECTION]"
      ],
      "metadata": {
        "id": "oP_tklbmMoFH"
      }
    },
    {
      "cell_type": "markdown",
      "source": [
        "In this section, we will create a model card for one of the models we trained."
      ],
      "metadata": {
        "id": "QfI9oEwIkS6v"
      }
    },
    {
      "cell_type": "code",
      "execution_count": null,
      "source": [
        "mct = ModelCardToolkit()\n",
        "model_card = mct.scaffold_assets()\n"
      ],
      "outputs": [],
      "metadata": {
        "id": "OViYhOAHPftT"
      }
    },
    {
      "cell_type": "markdown",
      "source": [
        "The first section of the Model Card is the _model details_ section. In _model details_, we fill in some basic information for our model.\n",
        "\n",
        "\n",
        "*   _Name_: A name for the model\n",
        "*   _Overview_: A brief description of the model and its intended use case\n",
        "*   _Owners_: Name of individual(s) or group who created the model.\n",
        "*   _References_: Any external links or references\n",
        "\n"
      ],
      "metadata": {
        "id": "Lnr6aRjIF_t6"
      }
    },
    {
      "cell_type": "code",
      "execution_count": null,
      "source": [
        "model_card.model_details.name = \"Diabetes Re-Admission Risk model\"\n",
        "model_card.model_details.overview = \"This model predicts whether a patient will be re-admitted into a hospital within 30 days.\"\n",
        "model_card.model_details.owners = [{\n",
        "    \"name\": \"Fairlearn Team\",\n",
        "    \"contact\": \"https://fairlearn.org/\"\n",
        "}]\n",
        "model_card.model_details.reference = [\n",
        "    \"https://archive.ics.uci.edu/ml/datasets/Diabetes+130-US+hospitals+for+years+1999-2008\"\n",
        "]\n",
        "model_card.model_details.version.name = \"v1.0\"\n",
        "model_card.model_details.version.date = str(date.today())\n",
        "model_card.model_details.license = \"MIT License\"\n"
      ],
      "outputs": [],
      "metadata": {
        "id": "YKvUW25cPewp"
      }
    },
    {
      "cell_type": "code",
      "execution_count": null,
      "source": [
        "model_card.considerations.use_cases = [\"High-Risk Patient Care Management\"]\n",
        "model_card.considerations.users = [\"Medical Professionals\",  \"ML Researchers\"]\n",
        "model_card.considerations.limitations = [\n",
        "    \"\"\"\n",
        "    This model will not generalize to hospitals outside of the United States. Features, such as those encoding insurance\n",
        "    information, are inherently tied to the U.S healthcare system.\n",
        "    In addition, this model is intended for patients who are admitted into U.S. hospitals for diabetes-related illnessess.\n",
        "    \"\"\"\n",
        "]\n",
        "model_card.considerations.ethical_considerations = [{\n",
        "    \"name\": (\"Low sample sizes of certain racial groups could lead to poorer performance on these groups\"),\n",
        "    \"mitigation_strategy\": \"Collect additional data points from more hospitals.\"\n",
        "}]"
      ],
      "outputs": [],
      "metadata": {
        "id": "avEdkdzAPe2S"
      }
    },
    {
      "cell_type": "markdown",
      "source": [
        "The next two sections of the model card are meant to provide the reader with information about the data used to train and evaluate the model. For each of these sections, we provide a brief `description` of the data and then submit a `visualization` of the distribution of labels in the dataset."
      ],
      "metadata": {
        "id": "orPNYAZFwGVM"
      }
    },
    {
      "cell_type": "code",
      "execution_count": null,
      "source": [
        "model_card.model_parameters.data.train.graphics.description = (\n",
        "    f\"{X_train_bal.shape[0]} rows with {X_train_bal.shape[1]} features. \"\n",
        "    f\"The original training data set was undersampled to allow for an equal number of positive and negative labeled instances.\"\n",
        ")\n",
        "\n",
        "model_card.model_parameters.data.train.graphics.collection = [\n",
        "    {\"name\": \"Sensitive Features\", \"image\": sensitive_train},\n",
        "    {\"name\": \"Target Label\", \"image\": outcome_train}                                                   \n",
        "]"
      ],
      "outputs": [],
      "metadata": {
        "id": "khWJN_vqm35e"
      }
    },
    {
      "cell_type": "code",
      "execution_count": null,
      "source": [
        "model_card.model_parameters.data.eval.graphics.description = (\n",
        "    f\"{X_test.shape[0]} rows with {X_test.shape[1]} columns\"\n",
        ")\n",
        "\n",
        "model_card.model_parameters.data.eval.graphics.collection = [\n",
        "    {\"name\": \"Sensitive Features\", \"image\": sensitive_test},\n",
        "    {\"name\": \"Target Label\", \"image\": outcome_test}\n",
        "]"
      ],
      "outputs": [],
      "metadata": {
        "id": "h3fiatJ6nGQf"
      }
    },
    {
      "cell_type": "markdown",
      "source": [
        "In the last section, we fill out the `quantitative_analysis` section where we describe the model's performance metrics on the evaluation dataset. In particular, we want to report the model's disagregated performance with respect to our three metrics including false negative rate, which quantifies fairness-related harms."
      ],
      "metadata": {
        "id": "frGlrXHAyn2C"
      }
    },
    {
      "cell_type": "code",
      "execution_count": null,
      "source": [
        "def metricframe_to_dictionary(mframe, feature_name):\n",
        "    \"\"\"\n",
        "    Converts a MetricFrame into a Dictionary object that can be accepted by the Model Card's\n",
        "    Quantitative Analysis section.\n",
        "    \"\"\"\n",
        "    group_metrics = mframe.by_group[feature_name].reset_index()\n",
        "    group_metrics = group_metrics.melt(id_vars=\"race\", var_name=\"type\", value_vars=feature_name).rename(columns={\"race\":\"slice\"})\n",
        "    return group_metrics.to_dict(orient=\"records\")"
      ],
      "outputs": [],
      "metadata": {
        "id": "1cyHIMlAJqod"
      }
    },
    {
      "cell_type": "code",
      "execution_count": null,
      "source": [
        "model_card.quantitative_analysis.graphics.description = (\n",
        "    f\"These graphs show the models performance on the test dataset for disagregated racial categories.\"\n",
        ")\n",
        "model_card.quantitative_analysis.performance_metrics = metricframe_to_dictionary(metricframe_postprocess, \"false_negative_rate\")\n",
        "model_card.quantitative_analysis.graphics.collection = [\n",
        "    {\"name\": \"ThresholdOptimizer\", \"image\": postprocess_performance}\n",
        "]"
      ],
      "outputs": [],
      "metadata": {
        "id": "kETWDtN68Gmq"
      }
    },
    {
      "cell_type": "markdown",
      "source": [
        "Finally, we pass our filled-out `model_card` to the `mct` object to generate an HTML version of the `model_card` that can be rendered within a Jupyter notebook."
      ],
      "metadata": {
        "id": "WvL2mHlwp-l0"
      }
    },
    {
      "cell_type": "code",
      "execution_count": null,
      "source": [
        "mct.update_model_card_json(model_card)\n",
        "html_modelcard = mct.export_format()"
      ],
      "outputs": [],
      "metadata": {
        "id": "A-j_4mBaPe5z"
      }
    },
    {
      "cell_type": "markdown",
      "source": [
        "### Display the model card"
      ],
      "metadata": {
        "id": "CkuNE_MvMy7P"
      }
    },
    {
      "cell_type": "code",
      "execution_count": null,
      "source": [
        "display.HTML(html_modelcard)"
      ],
      "outputs": [],
      "metadata": {
        "colab": {
          "base_uri": "https://localhost:8080/",
          "height": 1000
        },
        "id": "89kqC0Jj9D6O",
        "outputId": "a64294f5-205a-4dc9-8e8a-fcd245a7182f"
      }
    },
    {
      "cell_type": "markdown",
      "source": [
        "# Discussion and conclusion"
      ],
      "metadata": {
        "id": "1j9WzWcCVbZV"
      }
    },
    {
      "cell_type": "markdown",
      "source": [
        "In this tutorial we have explored in depth a health care scenario through all stages of the AI lifecycle except the model deployment stage. We have seen how fairness-related harms can arise at the stage of task definition, data collection, model training, and model evaluation. We have also seen how to use a variety of tools and practices, such as datasheets for datasets, Fairlearn, and model cards.\n",
        "\n",
        "Once the model is deployed, it is important to continue monitoring the key metrics to assess any performance difference as well as the potential for fairness related harms. As you learn more about how the model is used, you may need to revise the fairness metrics, update the model, consider additional sensitive features, update the task definition, or collect new data.\n",
        "\n",
        "Although we used a variety of software tools, fairness is a sociotechnical challenge, so mitigations cannot be purely technical, and need to be supported by processes and practices, including government regulation and organizational incentives.\n",
        "\n",
        "If you would like to learn more about fairness of AI systems, or to contribute to Fairlearn, we welcome you to join our community. Fairlearn is built and maintained by contributors with a variety of backgrounds and expertise.\n",
        "\n",
        "Further resources can also be found [on our website](https://fairlearn.org/main/user_guide/further_resources.html)."
      ],
      "metadata": {
        "id": "xtvW54LtB8hp"
      }
    }
  ],
  "metadata": {
    "colab": {
      "collapsed_sections": [
        "4MMbl3u7-J-a",
        "ZVSerRqDG3we"
      ],
      "name": "SciPy 2021 Tutorial.ipynb",
      "provenance": [],
      "toc_visible": true
    },
    "interpreter": {
      "hash": "a025db62d48a12d86b0e6b0cb53f59776c5e11a448915a1ba45134646da53519"
    },
    "kernelspec": {
      "display_name": "Python 3.8.5 64-bit ('base': conda)",
      "name": "python3"
    },
    "language_info": {
      "name": "python",
      "version": ""
    }
  },
  "nbformat": 4,
  "nbformat_minor": 2
}